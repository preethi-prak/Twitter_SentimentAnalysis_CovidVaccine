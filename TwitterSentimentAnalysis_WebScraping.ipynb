{
 "cells": [
  {
   "cell_type": "markdown",
   "metadata": {},
   "source": [
    "# TWITTER SENTIMENT ANALYSIS ON COVID DATA - WEBSCRAPING"
   ]
  },
  {
   "cell_type": "markdown",
   "metadata": {},
   "source": [
    "## Importing Packages and Connecting Data"
   ]
  },
  {
   "cell_type": "code",
   "execution_count": 1,
   "metadata": {},
   "outputs": [],
   "source": [
    "import numpy as np\n",
    "import pandas as pd\n",
    "import seaborn as sns\n",
    "import nltk\n",
    "import snscrape.modules.twitter as sntwitter\n",
    "from tqdm.notebook import tqdm\n",
    "from pathlib import Path  \n",
    "import re\n",
    "import string\n",
    "from transformers import AutoTokenizer\n",
    "#add package\n",
    "from transformers import AutoModelForSequenceClassification\n",
    "from scipy.special import softmax"
   ]
  },
  {
   "cell_type": "code",
   "execution_count": 2,
   "metadata": {},
   "outputs": [],
   "source": [
    "#package for social network scraping\n",
    "#pip install snscrape"
   ]
  },
  {
   "cell_type": "markdown",
   "metadata": {},
   "source": [
    "## Web Scraping for CovidVaccine  related tweets "
   ]
  },
  {
   "cell_type": "code",
   "execution_count": 3,
   "metadata": {
    "scrolled": true
   },
   "outputs": [
    {
     "name": "stdout",
     "output_type": "stream",
     "text": [
      "{'url': 'https://twitter.com/manas_llb/status/1594595754051518466', 'date': datetime.datetime(2022, 11, 21, 7, 37, 8, tzinfo=datetime.timezone.utc), 'content': '@ManasMarthi @ShriramKMurthi My students and colleagues find real hard to switch languages. Mutability was not big concern. How to plumb moving parts, or use a framework was big learning curve. So,starting with python may be okay for a web developer who is going to deal with procedural req/res code', 'renderedContent': '@ManasMarthi @ShriramKMurthi My students and colleagues find real hard to switch languages. Mutability was not big concern. How to plumb moving parts, or use a framework was big learning curve. So,starting with python may be okay for a web developer who is going to deal with procedural req/res code', 'id': 1594595754051518466, 'user': User(username='manas_llb', id=1467328215735693315, displayname='Manas', description='Maxime stultus. Retweets are retweets. Likes are Likes. Endorsements are endorsements. Trying to study law.', rawDescription='Maxime stultus. Retweets are retweets. Likes are Likes. Endorsements are endorsements. Trying to study law.', descriptionUrls=None, verified=False, created=datetime.datetime(2021, 12, 5, 3, 1, 43, tzinfo=datetime.timezone.utc), followersCount=8, friendsCount=41, statusesCount=1151, favouritesCount=936, listedCount=0, mediaCount=33, location='Hyderabad, India', protected=False, linkUrl=None, linkTcourl=None, profileImageUrl='https://pbs.twimg.com/profile_images/1527924804652699648/bf8Ee1oz_normal.jpg', profileBannerUrl='https://pbs.twimg.com/profile_banners/1467328215735693315/1656914365', label=None), 'replyCount': 0, 'retweetCount': 0, 'likeCount': 0, 'quoteCount': 0, 'conversationId': 1594491336505303042, 'lang': 'en', 'source': '<a href=\"http://twitter.com/download/android\" rel=\"nofollow\">Twitter for Android</a>', 'sourceUrl': 'http://twitter.com/download/android', 'sourceLabel': 'Twitter for Android', 'outlinks': None, 'tcooutlinks': None, 'media': None, 'retweetedTweet': None, 'quotedTweet': None, 'inReplyToTweetId': 1594594511778373632, 'inReplyToUser': User(username='manas_llb', id=1467328215735693315, displayname='Manas', description='Maxime stultus. Retweets are retweets. Likes are Likes. Endorsements are endorsements. Trying to study law.', rawDescription='Maxime stultus. Retweets are retweets. Likes are Likes. Endorsements are endorsements. Trying to study law.', descriptionUrls=None, verified=False, created=datetime.datetime(2021, 12, 5, 3, 1, 43, tzinfo=datetime.timezone.utc), followersCount=8, friendsCount=41, statusesCount=1151, favouritesCount=936, listedCount=0, mediaCount=33, location='Hyderabad, India', protected=False, linkUrl=None, linkTcourl=None, profileImageUrl='https://pbs.twimg.com/profile_images/1527924804652699648/bf8Ee1oz_normal.jpg', profileBannerUrl='https://pbs.twimg.com/profile_banners/1467328215735693315/1656914365', label=None), 'mentionedUsers': [User(username='ManasMarthi', id=799534506977951744, displayname='Manas Marthi', description=None, rawDescription=None, descriptionUrls=None, verified=None, created=None, followersCount=None, friendsCount=None, statusesCount=None, favouritesCount=None, listedCount=None, mediaCount=None, location=None, protected=None, linkUrl=None, linkTcourl=None, profileImageUrl=None, profileBannerUrl=None, label=None), User(username='ShriramKMurthi', id=951637830, displayname='ShriramKrishnamurthi', description=None, rawDescription=None, descriptionUrls=None, verified=None, created=None, followersCount=None, friendsCount=None, statusesCount=None, favouritesCount=None, listedCount=None, mediaCount=None, location=None, protected=None, linkUrl=None, linkTcourl=None, profileImageUrl=None, profileBannerUrl=None, label=None)], 'coordinates': None, 'place': None, 'hashtags': None, 'cashtags': None}\n"
     ]
    }
   ],
   "source": [
    "query = \"python\"\n",
    "\n",
    "for tweet in sntwitter.TwitterSearchScraper(query).get_items():\n",
    "    print(vars(tweet))\n",
    "    break"
   ]
  },
  {
   "cell_type": "code",
   "execution_count": 4,
   "metadata": {},
   "outputs": [
    {
     "data": {
      "application/vnd.jupyter.widget-view+json": {
       "model_id": "863227272989495f9f799081aeddd53d",
       "version_major": 2,
       "version_minor": 0
      },
      "text/plain": [
       "  0%|          | 0/10000 [00:00<?, ?it/s]"
      ]
     },
     "metadata": {},
     "output_type": "display_data"
    },
    {
     "data": {
      "text/html": [
       "<div>\n",
       "<style scoped>\n",
       "    .dataframe tbody tr th:only-of-type {\n",
       "        vertical-align: middle;\n",
       "    }\n",
       "\n",
       "    .dataframe tbody tr th {\n",
       "        vertical-align: top;\n",
       "    }\n",
       "\n",
       "    .dataframe thead th {\n",
       "        text-align: right;\n",
       "    }\n",
       "</style>\n",
       "<table border=\"1\" class=\"dataframe\">\n",
       "  <thead>\n",
       "    <tr style=\"text-align: right;\">\n",
       "      <th></th>\n",
       "      <th>Date</th>\n",
       "      <th>User</th>\n",
       "      <th>Tweet</th>\n",
       "      <th>Tweet_URL</th>\n",
       "      <th>Location</th>\n",
       "    </tr>\n",
       "  </thead>\n",
       "  <tbody>\n",
       "    <tr>\n",
       "      <th>0</th>\n",
       "      <td>2021-12-07 23:58:57+00:00</td>\n",
       "      <td>TPedherney</td>\n",
       "      <td>In line to get my booster #vaccine #Booster #P...</td>\n",
       "      <td>https://twitter.com/TPedherney/status/14683694...</td>\n",
       "      <td>Burlington, ON</td>\n",
       "    </tr>\n",
       "    <tr>\n",
       "      <th>1</th>\n",
       "      <td>2021-12-07 23:32:39+00:00</td>\n",
       "      <td>cwillits30</td>\n",
       "      <td>Officially boosted! First done of Moderna afte...</td>\n",
       "      <td>https://twitter.com/cwillits30/status/14683628...</td>\n",
       "      <td>Phoenix, AZ</td>\n",
       "    </tr>\n",
       "    <tr>\n",
       "      <th>2</th>\n",
       "      <td>2021-12-07 22:58:56+00:00</td>\n",
       "      <td>michaelwbunner</td>\n",
       "      <td>Can anyone prove that the #covid #vaccine prev...</td>\n",
       "      <td>https://twitter.com/michaelwbunner/status/1468...</td>\n",
       "      <td>Norristown, PA</td>\n",
       "    </tr>\n",
       "    <tr>\n",
       "      <th>3</th>\n",
       "      <td>2021-12-07 22:08:57+00:00</td>\n",
       "      <td>talking_biscuit</td>\n",
       "      <td>My 6 yo #neurodiverse kiddo just got his 2nd C...</td>\n",
       "      <td>https://twitter.com/talking_biscuit/status/146...</td>\n",
       "      <td>Sacramento, CA</td>\n",
       "    </tr>\n",
       "    <tr>\n",
       "      <th>4</th>\n",
       "      <td>2021-12-07 22:03:38+00:00</td>\n",
       "      <td>chris_brennan91</td>\n",
       "      <td>Omicron has now been confirmed as not only mor...</td>\n",
       "      <td>https://twitter.com/chris_brennan91/status/146...</td>\n",
       "      <td>Newcastle Upon Tyne, England</td>\n",
       "    </tr>\n",
       "  </tbody>\n",
       "</table>\n",
       "</div>"
      ],
      "text/plain": [
       "                       Date             User  \\\n",
       "0 2021-12-07 23:58:57+00:00       TPedherney   \n",
       "1 2021-12-07 23:32:39+00:00       cwillits30   \n",
       "2 2021-12-07 22:58:56+00:00   michaelwbunner   \n",
       "3 2021-12-07 22:08:57+00:00  talking_biscuit   \n",
       "4 2021-12-07 22:03:38+00:00  chris_brennan91   \n",
       "\n",
       "                                               Tweet  \\\n",
       "0  In line to get my booster #vaccine #Booster #P...   \n",
       "1  Officially boosted! First done of Moderna afte...   \n",
       "2  Can anyone prove that the #covid #vaccine prev...   \n",
       "3  My 6 yo #neurodiverse kiddo just got his 2nd C...   \n",
       "4  Omicron has now been confirmed as not only mor...   \n",
       "\n",
       "                                           Tweet_URL  \\\n",
       "0  https://twitter.com/TPedherney/status/14683694...   \n",
       "1  https://twitter.com/cwillits30/status/14683628...   \n",
       "2  https://twitter.com/michaelwbunner/status/1468...   \n",
       "3  https://twitter.com/talking_biscuit/status/146...   \n",
       "4  https://twitter.com/chris_brennan91/status/146...   \n",
       "\n",
       "                       Location  \n",
       "0                Burlington, ON  \n",
       "1                   Phoenix, AZ  \n",
       "2                Norristown, PA  \n",
       "3                Sacramento, CA  \n",
       "4  Newcastle Upon Tyne, England  "
      ]
     },
     "execution_count": 4,
     "metadata": {},
     "output_type": "execute_result"
    }
   ],
   "source": [
    "\n",
    "# webscaping from 2020 to 2021\n",
    "tweets = []\n",
    "limit = 10000\n",
    "\n",
    "query = \"(covid+vaccine OR Nuvaxovid OR Novavax OR pfizer OR pfizer-biontech OR pfizerbiontech OR moderna OR astrazeneca OR astra+zeneca) -availability -free -slot -slots -trade -trades (#covidvaccine OR #CovidVaccine OR #vaccine OR #covid OR #Covid19Vaccine OR #CoronaVirusVaccine ) lang:en until:2021-12-8 since:2020-12-08 -filter:links -filter:replies\"\n",
    "\n",
    "for tweet in tqdm(sntwitter.TwitterSearchScraper(query).get_items(),total = limit):\n",
    "    if len(tweets) == limit:\n",
    "        break\n",
    "    else:\n",
    "        tweets.append([tweet.date,tweet.user.username,tweet.content,tweet.url,tweet.user.location])\n",
    "vaccine_df_2020_2021 = pd.DataFrame(tweets,columns=['Date','User','Tweet','Tweet_URL','Location'])\n",
    "vaccine_df_2020_2021.head()\n"
   ]
  },
  {
   "cell_type": "code",
   "execution_count": 5,
   "metadata": {},
   "outputs": [
    {
     "data": {
      "text/html": [
       "<div>\n",
       "<style scoped>\n",
       "    .dataframe tbody tr th:only-of-type {\n",
       "        vertical-align: middle;\n",
       "    }\n",
       "\n",
       "    .dataframe tbody tr th {\n",
       "        vertical-align: top;\n",
       "    }\n",
       "\n",
       "    .dataframe thead th {\n",
       "        text-align: right;\n",
       "    }\n",
       "</style>\n",
       "<table border=\"1\" class=\"dataframe\">\n",
       "  <thead>\n",
       "    <tr style=\"text-align: right;\">\n",
       "      <th></th>\n",
       "      <th>Date</th>\n",
       "      <th>User</th>\n",
       "      <th>Tweet</th>\n",
       "      <th>Tweet_URL</th>\n",
       "      <th>Location</th>\n",
       "    </tr>\n",
       "  </thead>\n",
       "  <tbody>\n",
       "    <tr>\n",
       "      <th>0</th>\n",
       "      <td>2021-12-07 23:58:57+00:00</td>\n",
       "      <td>TPedherney</td>\n",
       "      <td>In line to get my booster #vaccine #Booster #P...</td>\n",
       "      <td>https://twitter.com/TPedherney/status/14683694...</td>\n",
       "      <td>Burlington, ON</td>\n",
       "    </tr>\n",
       "    <tr>\n",
       "      <th>1</th>\n",
       "      <td>2021-12-07 23:32:39+00:00</td>\n",
       "      <td>cwillits30</td>\n",
       "      <td>Officially boosted! First done of Moderna afte...</td>\n",
       "      <td>https://twitter.com/cwillits30/status/14683628...</td>\n",
       "      <td>Phoenix, AZ</td>\n",
       "    </tr>\n",
       "    <tr>\n",
       "      <th>2</th>\n",
       "      <td>2021-12-07 22:58:56+00:00</td>\n",
       "      <td>michaelwbunner</td>\n",
       "      <td>Can anyone prove that the #covid #vaccine prev...</td>\n",
       "      <td>https://twitter.com/michaelwbunner/status/1468...</td>\n",
       "      <td>Norristown, PA</td>\n",
       "    </tr>\n",
       "    <tr>\n",
       "      <th>3</th>\n",
       "      <td>2021-12-07 22:08:57+00:00</td>\n",
       "      <td>talking_biscuit</td>\n",
       "      <td>My 6 yo #neurodiverse kiddo just got his 2nd C...</td>\n",
       "      <td>https://twitter.com/talking_biscuit/status/146...</td>\n",
       "      <td>Sacramento, CA</td>\n",
       "    </tr>\n",
       "    <tr>\n",
       "      <th>4</th>\n",
       "      <td>2021-12-07 22:03:38+00:00</td>\n",
       "      <td>chris_brennan91</td>\n",
       "      <td>Omicron has now been confirmed as not only mor...</td>\n",
       "      <td>https://twitter.com/chris_brennan91/status/146...</td>\n",
       "      <td>Newcastle Upon Tyne, England</td>\n",
       "    </tr>\n",
       "  </tbody>\n",
       "</table>\n",
       "</div>"
      ],
      "text/plain": [
       "                       Date             User  \\\n",
       "0 2021-12-07 23:58:57+00:00       TPedherney   \n",
       "1 2021-12-07 23:32:39+00:00       cwillits30   \n",
       "2 2021-12-07 22:58:56+00:00   michaelwbunner   \n",
       "3 2021-12-07 22:08:57+00:00  talking_biscuit   \n",
       "4 2021-12-07 22:03:38+00:00  chris_brennan91   \n",
       "\n",
       "                                               Tweet  \\\n",
       "0  In line to get my booster #vaccine #Booster #P...   \n",
       "1  Officially boosted! First done of Moderna afte...   \n",
       "2  Can anyone prove that the #covid #vaccine prev...   \n",
       "3  My 6 yo #neurodiverse kiddo just got his 2nd C...   \n",
       "4  Omicron has now been confirmed as not only mor...   \n",
       "\n",
       "                                           Tweet_URL  \\\n",
       "0  https://twitter.com/TPedherney/status/14683694...   \n",
       "1  https://twitter.com/cwillits30/status/14683628...   \n",
       "2  https://twitter.com/michaelwbunner/status/1468...   \n",
       "3  https://twitter.com/talking_biscuit/status/146...   \n",
       "4  https://twitter.com/chris_brennan91/status/146...   \n",
       "\n",
       "                       Location  \n",
       "0                Burlington, ON  \n",
       "1                   Phoenix, AZ  \n",
       "2                Norristown, PA  \n",
       "3                Sacramento, CA  \n",
       "4  Newcastle Upon Tyne, England  "
      ]
     },
     "execution_count": 5,
     "metadata": {},
     "output_type": "execute_result"
    }
   ],
   "source": [
    "vaccine_df_2020_2021_newline_cleaned = vaccine_df_2020_2021.replace(r'\\n',' ', regex=True).replace(r'\\r',' ', regex=True).replace(r'\\t',' ', regex=True)\n",
    "vaccine_df_2020_2021_newline_cleaned1 = vaccine_df_2020_2021_newline_cleaned.replace(r'\\\\r',' ', regex=True).replace(r'\\\\n',' ', regex=True).replace(r'\\\\t',' ',regex=True)\n",
    "vaccine_df_2020_2021_white_space = vaccine_df_2020_2021_newline_cleaned1.replace(r' +',' ',regex=True)\n",
    "vaccine_df_2020_2021_white_space.head()"
   ]
  },
  {
   "cell_type": "code",
   "execution_count": 6,
   "metadata": {},
   "outputs": [
    {
     "data": {
      "text/plain": [
       "'Pfizer advertising the Covid vaccine on the radio is compatible to my coke dealer advertising his 8 balls #COVID19 #Pfizer #vaccine'"
      ]
     },
     "execution_count": 6,
     "metadata": {},
     "output_type": "execute_result"
    }
   ],
   "source": [
    "vaccine_df_2020_2021['Tweet'][6]"
   ]
  },
  {
   "cell_type": "code",
   "execution_count": 7,
   "metadata": {},
   "outputs": [
    {
     "data": {
      "text/plain": [
       "'Pfizer advertising the Covid vaccine on the radio is compatible to my coke dealer advertising his 8 balls #COVID19 #Pfizer #vaccine'"
      ]
     },
     "execution_count": 7,
     "metadata": {},
     "output_type": "execute_result"
    }
   ],
   "source": [
    "vaccine_df_2020_2021_white_space['Tweet'][6]"
   ]
  },
  {
   "cell_type": "code",
   "execution_count": 8,
   "metadata": {},
   "outputs": [
    {
     "data": {
      "text/plain": [
       "1558"
      ]
     },
     "execution_count": 8,
     "metadata": {},
     "output_type": "execute_result"
    }
   ],
   "source": [
    "vaccine_df_2020_2021_white_space.duplicated(subset=['Tweet']).sum()"
   ]
  },
  {
   "cell_type": "code",
   "execution_count": 9,
   "metadata": {},
   "outputs": [
    {
     "data": {
      "text/plain": [
       "(8442, 5)"
      ]
     },
     "execution_count": 9,
     "metadata": {},
     "output_type": "execute_result"
    }
   ],
   "source": [
    "vaccine_df_clean=vaccine_df_2020_2021_white_space.drop_duplicates(subset=['Tweet'])\n",
    "vaccine_df_clean.shape"
   ]
  },
  {
   "cell_type": "code",
   "execution_count": 10,
   "metadata": {},
   "outputs": [],
   "source": [
    "filepath = Path('data/vaccine_output_2020_2021.csv')  \n",
    "filepath.parent.mkdir(parents=True, exist_ok=True)\n",
    "vaccine_df_clean.to_csv(filepath)"
   ]
  },
  {
   "cell_type": "code",
   "execution_count": 15,
   "metadata": {},
   "outputs": [
    {
     "data": {
      "application/vnd.jupyter.widget-view+json": {
       "model_id": "a607da93dec24e7083ba46eb12c285fd",
       "version_major": 2,
       "version_minor": 0
      },
      "text/plain": [
       "  0%|          | 0/10000 [00:00<?, ?it/s]"
      ]
     },
     "metadata": {},
     "output_type": "display_data"
    }
   ],
   "source": [
    "#Webscraping from 2021 to 2022\n",
    "tweets = []\n",
    "query = \"(covid+vaccine OR Nuvaxovid OR Novavax OR pfizer OR pfizer-biontech OR pfizerbiontech OR moderna OR astrazeneca OR astra+zeneca) -availability -free -slot -slots -trade -trades (#covidvaccine OR #CovidVaccine OR #vaccine OR #covid OR #Covid19Vaccine OR #CoronaVirusVaccine ) lang:en until:2022-11-25 since:2021-12-08 -filter:links -filter:replies\"\n",
    "\n",
    "for tweet in tqdm(sntwitter.TwitterSearchScraper(query).get_items(),total = limit):\n",
    "    if len(tweets) == limit:\n",
    "        break\n",
    "    else:\n",
    "        tweets.append([tweet.date,tweet.user.username,tweet.content,tweet.url,tweet.user.location])\n",
    "vaccine_df_2021_2022 = pd.DataFrame(tweets,columns=['Date','User','Tweet','Tweet_URL','Location'])"
   ]
  },
  {
   "cell_type": "code",
   "execution_count": 16,
   "metadata": {},
   "outputs": [
    {
     "data": {
      "text/plain": [
       "279"
      ]
     },
     "execution_count": 16,
     "metadata": {},
     "output_type": "execute_result"
    }
   ],
   "source": [
    "vaccine_df_2021_2022_newline_cleaned = vaccine_df_2021_2022.replace(r'\\n',' ', regex=True).replace(r'\\r',' ', regex=True).replace(r'\\t',' ', regex=True)\n",
    "vaccine_df_2021_2022_newline_cleaned1 = vaccine_df_2021_2022_newline_cleaned.replace(r'\\\\r',' ', regex=True).replace(r'\\\\n',' ', regex=True).replace(r'\\\\t',' ',regex=True)\n",
    "vaccine_df_2021_2022_white_space = vaccine_df_2021_2022_newline_cleaned1.replace(r' +',' ',regex=True)\n",
    "vaccine_df_2021_2022_white_space.duplicated(subset=['Tweet']).sum()"
   ]
  },
  {
   "cell_type": "code",
   "execution_count": 17,
   "metadata": {},
   "outputs": [
    {
     "data": {
      "text/plain": [
       "(7526, 5)"
      ]
     },
     "execution_count": 17,
     "metadata": {},
     "output_type": "execute_result"
    }
   ],
   "source": [
    "vaccine_df_2021_2022_clean=vaccine_df_2021_2022_white_space.drop_duplicates(subset=['Tweet'])\n",
    "vaccine_df_2021_2022_clean.shape"
   ]
  },
  {
   "cell_type": "code",
   "execution_count": 18,
   "metadata": {},
   "outputs": [],
   "source": [
    "filepath = Path('data/vaccine_output_2021_2022.csv')  \n",
    "filepath.parent.mkdir(parents=True, exist_ok=True)\n",
    "vaccine_df_2021_2022_clean.to_csv(filepath)"
   ]
  },
  {
   "cell_type": "code",
   "execution_count": null,
   "metadata": {},
   "outputs": [],
   "source": []
  }
 ],
 "metadata": {
  "kernelspec": {
   "display_name": "Python 3 (ipykernel)",
   "language": "python",
   "name": "python3"
  },
  "language_info": {
   "codemirror_mode": {
    "name": "ipython",
    "version": 3
   },
   "file_extension": ".py",
   "mimetype": "text/x-python",
   "name": "python",
   "nbconvert_exporter": "python",
   "pygments_lexer": "ipython3",
   "version": "3.9.7"
  }
 },
 "nbformat": 4,
 "nbformat_minor": 1
}
