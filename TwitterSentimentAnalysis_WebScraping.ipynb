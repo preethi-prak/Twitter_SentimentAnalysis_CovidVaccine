{
 "cells": [
  {
   "cell_type": "markdown",
   "metadata": {},
   "source": [
    "# TWITTER SENTIMENT ANALYSIS ON COVID DATA - WEBSCRAPING"
   ]
  },
  {
   "cell_type": "markdown",
   "metadata": {},
   "source": [
    "## Importing Packages and Connecting Data"
   ]
  },
  {
   "cell_type": "code",
   "execution_count": 29,
   "metadata": {},
   "outputs": [],
   "source": [
    "import numpy as np\n",
    "import pandas as pd\n",
    "import seaborn as sns\n",
    "import nltk\n",
    "import snscrape.modules.twitter as sntwitter\n",
    "from tqdm.notebook import tqdm\n",
    "from pathlib import Path  \n",
    "import re\n",
    "import string\n",
    "from transformers import AutoTokenizer\n",
    "#add package\n",
    "from transformers import AutoModelForSequenceClassification\n",
    "from scipy.special import softmax"
   ]
  },
  {
   "cell_type": "code",
   "execution_count": 30,
   "metadata": {},
   "outputs": [],
   "source": [
    "#package for social network scraping\n",
    "#pip install snscrape"
   ]
  },
  {
   "cell_type": "markdown",
   "metadata": {},
   "source": [
    "## Web Scraping for CovidVaccine  related tweets "
   ]
  },
  {
   "cell_type": "code",
   "execution_count": 31,
   "metadata": {
    "scrolled": true
   },
   "outputs": [
    {
     "name": "stdout",
     "output_type": "stream",
     "text": [
      "{'url': 'https://twitter.com/BlackWomenInAI/status/1589943934788440064', 'date': datetime.datetime(2022, 11, 8, 11, 32, 28, tzinfo=datetime.timezone.utc), 'content': \"What is A.I.? That's A.I.  #100DaysofCode Rewind ⏪⏪  #music  #BlackTechTwitter #BWIAI #Apple #WomenWhoCode  #REWIND  #Tech #STEM #Python\\n@BlackWomenInAI @nas #HipHop https://t.co/JanFVBTzkZ\", 'renderedContent': \"What is A.I.? That's A.I.  #100DaysofCode Rewind ⏪⏪  #music  #BlackTechTwitter #BWIAI #Apple #WomenWhoCode  #REWIND  #Tech #STEM #Python\\n@BlackWomenInAI @nas #HipHop https://t.co/JanFVBTzkZ\", 'id': 1589943934788440064, 'user': User(username='BlackWomenInAI', id=944826755793281024, displayname='Black Women in A.I.', description='Amplifying the voices of Black Women In Artificial Intelligence. We Are Here- Educate-Engage-Embrace-Empower - Join us today .  - Global', rawDescription='Amplifying the voices of Black Women In Artificial Intelligence. We Are Here- Educate-Engage-Embrace-Empower - Join us today .  - Global', descriptionUrls=None, verified=False, created=datetime.datetime(2017, 12, 24, 7, 7, 7, tzinfo=datetime.timezone.utc), followersCount=5666, friendsCount=957, statusesCount=11047, favouritesCount=13252, listedCount=146, mediaCount=3121, location='Global', protected=False, linkUrl='http://www.blackwomeninai.com', linkTcourl='https://t.co/fP7qv69EFR', profileImageUrl='https://pbs.twimg.com/profile_images/1128561130857742336/HEk8TZ7g_normal.png', profileBannerUrl='https://pbs.twimg.com/profile_banners/944826755793281024/1591265381', label=None), 'replyCount': 0, 'retweetCount': 0, 'likeCount': 0, 'quoteCount': 0, 'conversationId': 1589943934788440064, 'lang': 'en', 'source': '<a href=\"https://mobile.twitter.com\" rel=\"nofollow\">Twitter Web App</a>', 'sourceUrl': 'https://mobile.twitter.com', 'sourceLabel': 'Twitter Web App', 'outlinks': None, 'tcooutlinks': None, 'media': [Video(thumbnailUrl='https://pbs.twimg.com/ext_tw_video_thumb/1589943363624751106/pu/img/CmxVFHKnyQNO-E7M.jpg', variants=[VideoVariant(contentType='video/mp4', url='https://video.twimg.com/ext_tw_video/1589943363624751106/pu/vid/320x568/uxpZx2LZpTZYomZQ.mp4?tag=12', bitrate=632000), VideoVariant(contentType='video/mp4', url='https://video.twimg.com/ext_tw_video/1589943363624751106/pu/vid/720x1280/4F7YFvI7-ms78so8.mp4?tag=12', bitrate=2176000), VideoVariant(contentType='video/mp4', url='https://video.twimg.com/ext_tw_video/1589943363624751106/pu/vid/480x852/0TzEdPq1Z3l7w3XQ.mp4?tag=12', bitrate=950000), VideoVariant(contentType='application/x-mpegURL', url='https://video.twimg.com/ext_tw_video/1589943363624751106/pu/pl/ItwKcok5TopDh9bk.m3u8?tag=12&container=fmp4', bitrate=None)], duration=22.422, views=0)], 'retweetedTweet': None, 'quotedTweet': None, 'inReplyToTweetId': None, 'inReplyToUser': None, 'mentionedUsers': [User(username='BlackWomenInAI', id=944826755793281024, displayname='Black Women in A.I.', description=None, rawDescription=None, descriptionUrls=None, verified=None, created=None, followersCount=None, friendsCount=None, statusesCount=None, favouritesCount=None, listedCount=None, mediaCount=None, location=None, protected=None, linkUrl=None, linkTcourl=None, profileImageUrl=None, profileBannerUrl=None, label=None), User(username='Nas', id=96829836, displayname='Nasir Jones', description=None, rawDescription=None, descriptionUrls=None, verified=None, created=None, followersCount=None, friendsCount=None, statusesCount=None, favouritesCount=None, listedCount=None, mediaCount=None, location=None, protected=None, linkUrl=None, linkTcourl=None, profileImageUrl=None, profileBannerUrl=None, label=None)], 'coordinates': None, 'place': None, 'hashtags': ['100DaysofCode', 'music', 'BlackTechTwitter', 'BWIAI', 'Apple', 'WomenWhoCode', 'REWIND', 'Tech', 'STEM', 'Python', 'HipHop'], 'cashtags': None}\n"
     ]
    }
   ],
   "source": [
    "query = \"python\"\n",
    "\n",
    "for tweet in sntwitter.TwitterSearchScraper(query).get_items():\n",
    "    print(vars(tweet))\n",
    "    break"
   ]
  },
  {
   "cell_type": "code",
   "execution_count": 32,
   "metadata": {},
   "outputs": [
    {
     "data": {
      "application/vnd.jupyter.widget-view+json": {
       "model_id": "2673d6b13f7d4114b15003726742a449",
       "version_major": 2,
       "version_minor": 0
      },
      "text/plain": [
       "  0%|          | 0/1000 [00:00<?, ?it/s]"
      ]
     },
     "metadata": {},
     "output_type": "display_data"
    },
    {
     "data": {
      "text/html": [
       "<div>\n",
       "<style scoped>\n",
       "    .dataframe tbody tr th:only-of-type {\n",
       "        vertical-align: middle;\n",
       "    }\n",
       "\n",
       "    .dataframe tbody tr th {\n",
       "        vertical-align: top;\n",
       "    }\n",
       "\n",
       "    .dataframe thead th {\n",
       "        text-align: right;\n",
       "    }\n",
       "</style>\n",
       "<table border=\"1\" class=\"dataframe\">\n",
       "  <thead>\n",
       "    <tr style=\"text-align: right;\">\n",
       "      <th></th>\n",
       "      <th>Date</th>\n",
       "      <th>User</th>\n",
       "      <th>Tweet</th>\n",
       "      <th>Tweet_URL</th>\n",
       "      <th>Location</th>\n",
       "    </tr>\n",
       "  </thead>\n",
       "  <tbody>\n",
       "    <tr>\n",
       "      <th>0</th>\n",
       "      <td>2021-12-07 23:58:57+00:00</td>\n",
       "      <td>TPedherney</td>\n",
       "      <td>In line to get my booster #vaccine #Booster #P...</td>\n",
       "      <td>https://twitter.com/TPedherney/status/14683694...</td>\n",
       "      <td>Burlington, ON</td>\n",
       "    </tr>\n",
       "    <tr>\n",
       "      <th>1</th>\n",
       "      <td>2021-12-07 23:32:39+00:00</td>\n",
       "      <td>cwillits30</td>\n",
       "      <td>Officially boosted! First done of Moderna afte...</td>\n",
       "      <td>https://twitter.com/cwillits30/status/14683628...</td>\n",
       "      <td>Phoenix, AZ</td>\n",
       "    </tr>\n",
       "    <tr>\n",
       "      <th>2</th>\n",
       "      <td>2021-12-07 23:29:36+00:00</td>\n",
       "      <td>MA_CEAL</td>\n",
       "      <td>#COVIDMythBustingTuesdays! \\n\\nMyth: Doesn’t t...</td>\n",
       "      <td>https://twitter.com/MA_CEAL/status/14683620841...</td>\n",
       "      <td>Boston, Massachusetts</td>\n",
       "    </tr>\n",
       "    <tr>\n",
       "      <th>3</th>\n",
       "      <td>2021-12-07 23:08:19+00:00</td>\n",
       "      <td>WebAeneas</td>\n",
       "      <td>#vaccinated another great idea you can sue any...</td>\n",
       "      <td>https://twitter.com/WebAeneas/status/146835672...</td>\n",
       "      <td></td>\n",
       "    </tr>\n",
       "    <tr>\n",
       "      <th>4</th>\n",
       "      <td>2021-12-07 23:02:41+00:00</td>\n",
       "      <td>TheAmirImani</td>\n",
       "      <td>I don't know if this is a \"3 dose #vaccine\" or...</td>\n",
       "      <td>https://twitter.com/TheAmirImani/status/146835...</td>\n",
       "      <td>Toronto</td>\n",
       "    </tr>\n",
       "  </tbody>\n",
       "</table>\n",
       "</div>"
      ],
      "text/plain": [
       "                       Date          User  \\\n",
       "0 2021-12-07 23:58:57+00:00    TPedherney   \n",
       "1 2021-12-07 23:32:39+00:00    cwillits30   \n",
       "2 2021-12-07 23:29:36+00:00       MA_CEAL   \n",
       "3 2021-12-07 23:08:19+00:00     WebAeneas   \n",
       "4 2021-12-07 23:02:41+00:00  TheAmirImani   \n",
       "\n",
       "                                               Tweet  \\\n",
       "0  In line to get my booster #vaccine #Booster #P...   \n",
       "1  Officially boosted! First done of Moderna afte...   \n",
       "2  #COVIDMythBustingTuesdays! \\n\\nMyth: Doesn’t t...   \n",
       "3  #vaccinated another great idea you can sue any...   \n",
       "4  I don't know if this is a \"3 dose #vaccine\" or...   \n",
       "\n",
       "                                           Tweet_URL               Location  \n",
       "0  https://twitter.com/TPedherney/status/14683694...         Burlington, ON  \n",
       "1  https://twitter.com/cwillits30/status/14683628...            Phoenix, AZ  \n",
       "2  https://twitter.com/MA_CEAL/status/14683620841...  Boston, Massachusetts  \n",
       "3  https://twitter.com/WebAeneas/status/146835672...                         \n",
       "4  https://twitter.com/TheAmirImani/status/146835...                Toronto  "
      ]
     },
     "execution_count": 32,
     "metadata": {},
     "output_type": "execute_result"
    }
   ],
   "source": [
    "\n",
    "# webscaping from 2020 to 2021\n",
    "tweets = []\n",
    "limit = 1000\n",
    "\n",
    "query = \"(covid+vaccine OR Nuvaxovid OR Novavax OR pfizer OR pfizer-biontech OR pfizerbiontech OR moderna OR astrazeneca OR astra+zeneca) -availability -free -slot -slots -trade -trades (#covidvaccine OR #CovidVaccine OR #vaccine OR #covid OR #Covid19Vaccine OR #CoronaVirusVaccine ) lang:en until:2021-12-8 since:2020-12-08 -filter:links -filter:replies\"\n",
    "\n",
    "for tweet in tqdm(sntwitter.TwitterSearchScraper(query).get_items(),total = limit):\n",
    "    if len(tweets) == limit:\n",
    "        break\n",
    "    else:\n",
    "        tweets.append([tweet.date,tweet.user.username,tweet.content,tweet.url,tweet.user.location])\n",
    "vaccine_df_2020_2021 = pd.DataFrame(tweets,columns=['Date','User','Tweet','Tweet_URL','Location'])\n",
    "vaccine_df_2020_2021.head()\n"
   ]
  },
  {
   "cell_type": "code",
   "execution_count": 33,
   "metadata": {},
   "outputs": [
    {
     "data": {
      "text/html": [
       "<div>\n",
       "<style scoped>\n",
       "    .dataframe tbody tr th:only-of-type {\n",
       "        vertical-align: middle;\n",
       "    }\n",
       "\n",
       "    .dataframe tbody tr th {\n",
       "        vertical-align: top;\n",
       "    }\n",
       "\n",
       "    .dataframe thead th {\n",
       "        text-align: right;\n",
       "    }\n",
       "</style>\n",
       "<table border=\"1\" class=\"dataframe\">\n",
       "  <thead>\n",
       "    <tr style=\"text-align: right;\">\n",
       "      <th></th>\n",
       "      <th>Date</th>\n",
       "      <th>User</th>\n",
       "      <th>Tweet</th>\n",
       "      <th>Tweet_URL</th>\n",
       "      <th>Location</th>\n",
       "    </tr>\n",
       "  </thead>\n",
       "  <tbody>\n",
       "    <tr>\n",
       "      <th>0</th>\n",
       "      <td>2021-12-07 23:58:57+00:00</td>\n",
       "      <td>TPedherney</td>\n",
       "      <td>In line to get my booster #vaccine #Booster #P...</td>\n",
       "      <td>https://twitter.com/TPedherney/status/14683694...</td>\n",
       "      <td>Burlington, ON</td>\n",
       "    </tr>\n",
       "    <tr>\n",
       "      <th>1</th>\n",
       "      <td>2021-12-07 23:32:39+00:00</td>\n",
       "      <td>cwillits30</td>\n",
       "      <td>Officially boosted! First done of Moderna afte...</td>\n",
       "      <td>https://twitter.com/cwillits30/status/14683628...</td>\n",
       "      <td>Phoenix, AZ</td>\n",
       "    </tr>\n",
       "    <tr>\n",
       "      <th>2</th>\n",
       "      <td>2021-12-07 23:29:36+00:00</td>\n",
       "      <td>MA_CEAL</td>\n",
       "      <td>#COVIDMythBustingTuesdays! Myth: Doesn’t the #...</td>\n",
       "      <td>https://twitter.com/MA_CEAL/status/14683620841...</td>\n",
       "      <td>Boston, Massachusetts</td>\n",
       "    </tr>\n",
       "    <tr>\n",
       "      <th>3</th>\n",
       "      <td>2021-12-07 23:08:19+00:00</td>\n",
       "      <td>WebAeneas</td>\n",
       "      <td>#vaccinated another great idea you can sue any...</td>\n",
       "      <td>https://twitter.com/WebAeneas/status/146835672...</td>\n",
       "      <td></td>\n",
       "    </tr>\n",
       "    <tr>\n",
       "      <th>4</th>\n",
       "      <td>2021-12-07 23:02:41+00:00</td>\n",
       "      <td>TheAmirImani</td>\n",
       "      <td>I don't know if this is a \"3 dose #vaccine\" or...</td>\n",
       "      <td>https://twitter.com/TheAmirImani/status/146835...</td>\n",
       "      <td>Toronto</td>\n",
       "    </tr>\n",
       "  </tbody>\n",
       "</table>\n",
       "</div>"
      ],
      "text/plain": [
       "                       Date          User  \\\n",
       "0 2021-12-07 23:58:57+00:00    TPedherney   \n",
       "1 2021-12-07 23:32:39+00:00    cwillits30   \n",
       "2 2021-12-07 23:29:36+00:00       MA_CEAL   \n",
       "3 2021-12-07 23:08:19+00:00     WebAeneas   \n",
       "4 2021-12-07 23:02:41+00:00  TheAmirImani   \n",
       "\n",
       "                                               Tweet  \\\n",
       "0  In line to get my booster #vaccine #Booster #P...   \n",
       "1  Officially boosted! First done of Moderna afte...   \n",
       "2  #COVIDMythBustingTuesdays! Myth: Doesn’t the #...   \n",
       "3  #vaccinated another great idea you can sue any...   \n",
       "4  I don't know if this is a \"3 dose #vaccine\" or...   \n",
       "\n",
       "                                           Tweet_URL               Location  \n",
       "0  https://twitter.com/TPedherney/status/14683694...         Burlington, ON  \n",
       "1  https://twitter.com/cwillits30/status/14683628...            Phoenix, AZ  \n",
       "2  https://twitter.com/MA_CEAL/status/14683620841...  Boston, Massachusetts  \n",
       "3  https://twitter.com/WebAeneas/status/146835672...                         \n",
       "4  https://twitter.com/TheAmirImani/status/146835...                Toronto  "
      ]
     },
     "execution_count": 33,
     "metadata": {},
     "output_type": "execute_result"
    }
   ],
   "source": [
    "vaccine_df_2020_2021_newline_cleaned = vaccine_df_2020_2021.replace(r'\\n',' ', regex=True).replace(r'\\r',' ', regex=True).replace(r'\\t',' ', regex=True)\n",
    "vaccine_df_2020_2021_newline_cleaned1 = vaccine_df_2020_2021_newline_cleaned.replace(r'\\\\r',' ', regex=True).replace(r'\\\\n',' ', regex=True).replace(r'\\\\t',' ',regex=True)\n",
    "vaccine_df_2020_2021_white_space = vaccine_df_2020_2021_newline_cleaned1.replace(r' +',' ',regex=True)\n",
    "vaccine_df_2020_2021_white_space.head()"
   ]
  },
  {
   "cell_type": "code",
   "execution_count": 34,
   "metadata": {},
   "outputs": [
    {
     "data": {
      "text/plain": [
       "'About 1600 people die each day from #COVID in the US.\\n\\nMost are #unvaccinated \\n\\nWe have a medication. It’s called a #vaccine &amp; it works! And btw. It’s in surplus!\\n\\nIs politics, party affiliation &amp; misinformation really worth one’s life?'"
      ]
     },
     "execution_count": 34,
     "metadata": {},
     "output_type": "execute_result"
    }
   ],
   "source": [
    "vaccine_df_2020_2021['Tweet'][6]"
   ]
  },
  {
   "cell_type": "code",
   "execution_count": 35,
   "metadata": {},
   "outputs": [
    {
     "data": {
      "text/plain": [
       "'About 1600 people die each day from #COVID in the US. Most are #unvaccinated We have a medication. It’s called a #vaccine &amp; it works! And btw. It’s in surplus! Is politics, party affiliation &amp; misinformation really worth one’s life?'"
      ]
     },
     "execution_count": 35,
     "metadata": {},
     "output_type": "execute_result"
    }
   ],
   "source": [
    "vaccine_df_2020_2021_white_space['Tweet'][6]"
   ]
  },
  {
   "cell_type": "code",
   "execution_count": 36,
   "metadata": {},
   "outputs": [
    {
     "data": {
      "text/plain": [
       "4"
      ]
     },
     "execution_count": 36,
     "metadata": {},
     "output_type": "execute_result"
    }
   ],
   "source": [
    "vaccine_df_2020_2021_white_space.duplicated(subset=['Tweet']).sum()"
   ]
  },
  {
   "cell_type": "code",
   "execution_count": 37,
   "metadata": {},
   "outputs": [
    {
     "data": {
      "text/plain": [
       "(996, 5)"
      ]
     },
     "execution_count": 37,
     "metadata": {},
     "output_type": "execute_result"
    }
   ],
   "source": [
    "vaccine_df_clean=vaccine_df_2020_2021_white_space.drop_duplicates(subset=['Tweet'])\n",
    "vaccine_df_clean.shape"
   ]
  },
  {
   "cell_type": "code",
   "execution_count": 38,
   "metadata": {},
   "outputs": [],
   "source": [
    "filepath = Path('data/vaccine_output_2020_2021.csv')  \n",
    "filepath.parent.mkdir(parents=True, exist_ok=True)\n",
    "vaccine_df_clean.to_csv(filepath)"
   ]
  },
  {
   "cell_type": "code",
   "execution_count": 39,
   "metadata": {},
   "outputs": [
    {
     "data": {
      "application/vnd.jupyter.widget-view+json": {
       "model_id": "e90c202ccc42436daa5a5a4ab9245656",
       "version_major": 2,
       "version_minor": 0
      },
      "text/plain": [
       "  0%|          | 0/1000 [00:00<?, ?it/s]"
      ]
     },
     "metadata": {},
     "output_type": "display_data"
    }
   ],
   "source": [
    "#Webscraping from 2021 to 2022\n",
    "tweets = []\n",
    "query = \"(covid+vaccine OR Nuvaxovid OR Novavax OR pfizer OR pfizer-biontech OR pfizerbiontech OR moderna OR astrazeneca OR astra+zeneca) -availability -free -slot -slots -trade -trades (#covidvaccine OR #CovidVaccine OR #vaccine OR #covid OR #Covid19Vaccine OR #CoronaVirusVaccine ) lang:en until:2022-12-8 since:2021-12-08 -filter:links -filter:replies\"\n",
    "\n",
    "for tweet in tqdm(sntwitter.TwitterSearchScraper(query).get_items(),total = limit):\n",
    "    if len(tweets) == limit:\n",
    "        break\n",
    "    else:\n",
    "        tweets.append([tweet.date,tweet.user.username,tweet.content,tweet.url,tweet.user.location])\n",
    "vaccine_df_2021_2022 = pd.DataFrame(tweets,columns=['Date','User','Tweet','Tweet_URL','Location'])"
   ]
  },
  {
   "cell_type": "code",
   "execution_count": 40,
   "metadata": {},
   "outputs": [
    {
     "data": {
      "text/plain": [
       "2"
      ]
     },
     "execution_count": 40,
     "metadata": {},
     "output_type": "execute_result"
    }
   ],
   "source": [
    "vaccine_df_2021_2022_newline_cleaned = vaccine_df_2021_2022.replace(r'\\n',' ', regex=True).replace(r'\\r',' ', regex=True).replace(r'\\t',' ', regex=True)\n",
    "vaccine_df_2021_2022_newline_cleaned1 = vaccine_df_2021_2022_newline_cleaned.replace(r'\\\\r',' ', regex=True).replace(r'\\\\n',' ', regex=True).replace(r'\\\\t',' ',regex=True)\n",
    "vaccine_df_2021_2022_white_space = vaccine_df_2021_2022_newline_cleaned1.replace(r' +',' ',regex=True)\n",
    "vaccine_df_2021_2022_white_space.duplicated(subset=['Tweet']).sum()"
   ]
  },
  {
   "cell_type": "code",
   "execution_count": 41,
   "metadata": {},
   "outputs": [
    {
     "data": {
      "text/plain": [
       "(998, 5)"
      ]
     },
     "execution_count": 41,
     "metadata": {},
     "output_type": "execute_result"
    }
   ],
   "source": [
    "vaccine_df_2021_2022_clean=vaccine_df_2021_2022_white_space.drop_duplicates(subset=['Tweet'])\n",
    "vaccine_df_2021_2022_clean.shape"
   ]
  },
  {
   "cell_type": "code",
   "execution_count": 42,
   "metadata": {},
   "outputs": [],
   "source": [
    "filepath = Path('data/vaccine_output_2021_2022.csv')  \n",
    "filepath.parent.mkdir(parents=True, exist_ok=True)\n",
    "vaccine_df_2021_2022_clean.to_csv(filepath)"
   ]
  },
  {
   "cell_type": "code",
   "execution_count": null,
   "metadata": {},
   "outputs": [],
   "source": []
  }
 ],
 "metadata": {
  "kernelspec": {
   "display_name": "Python 3 (ipykernel)",
   "language": "python",
   "name": "python3"
  },
  "language_info": {
   "codemirror_mode": {
    "name": "ipython",
    "version": 3
   },
   "file_extension": ".py",
   "mimetype": "text/x-python",
   "name": "python",
   "nbconvert_exporter": "python",
   "pygments_lexer": "ipython3",
   "version": "3.9.7"
  }
 },
 "nbformat": 4,
 "nbformat_minor": 1
}
