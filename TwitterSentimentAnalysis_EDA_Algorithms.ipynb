{
 "cells": [
  {
   "cell_type": "markdown",
   "metadata": {
    "collapsed": true
   },
   "source": [
    "# EDA"
   ]
  },
  {
   "cell_type": "code",
   "execution_count": 2,
   "metadata": {},
   "outputs": [],
   "source": [
    "import numpy as np\n",
    "import pandas as pd\n",
    "import seaborn as sns\n",
    "import nltk\n",
    "import snscrape.modules.twitter as sntwitter\n",
    "from tqdm.notebook import tqdm\n",
    "from pathlib import Path  \n",
    "import re\n",
    "import string\n",
    "from transformers import AutoTokenizer\n",
    "#add package\n",
    "from transformers import AutoModelForSequenceClassification\n",
    "from scipy.special import softmax"
   ]
  },
  {
   "cell_type": "code",
   "execution_count": 3,
   "metadata": {},
   "outputs": [],
   "source": [
    "vaccine_df_2020_2021 = pd.read_csv(r'data/vaccine_output_2020_2021.csv',index_col=0)\n",
    "\n",
    "#vaccine_df_2021_2022 = pd.read_csv(r'data/vaccine_output_2021_2022.csv')"
   ]
  },
  {
   "cell_type": "code",
   "execution_count": 4,
   "metadata": {},
   "outputs": [
    {
     "name": "stdout",
     "output_type": "stream",
     "text": [
      "<class 'pandas.core.frame.DataFrame'>\n",
      "Int64Index: 5000 entries, 0 to 4999\n",
      "Data columns (total 5 columns):\n",
      " #   Column     Non-Null Count  Dtype \n",
      "---  ------     --------------  ----- \n",
      " 0   Date       5000 non-null   object\n",
      " 1   User       5000 non-null   object\n",
      " 2   Tweet      5000 non-null   object\n",
      " 3   Tweet_URL  5000 non-null   object\n",
      " 4   Location   3787 non-null   object\n",
      "dtypes: object(5)\n",
      "memory usage: 234.4+ KB\n"
     ]
    }
   ],
   "source": [
    "vaccine_df_2020_2021.info()\n"
   ]
  },
  {
   "cell_type": "code",
   "execution_count": 5,
   "metadata": {},
   "outputs": [
    {
     "name": "stdout",
     "output_type": "stream",
     "text": [
      "(5000, 5)\n"
     ]
    }
   ],
   "source": [
    "print(vaccine_df_2020_2021.shape)"
   ]
  },
  {
   "cell_type": "code",
   "execution_count": 6,
   "metadata": {},
   "outputs": [
    {
     "data": {
      "text/plain": "'\"Up till now those of us who want to remain in our normal health state have been derisively known as “The Unvaccinated.” We need to change the perception, change the narrative. KG Wordsmith Warrior (in part) We choose to be #vaccinefree of #CovidVaccine we are not #unvaccinated'"
     },
     "execution_count": 6,
     "metadata": {},
     "output_type": "execute_result"
    }
   ],
   "source": [
    "vaccine_df_2020_2021['Tweet'][6]"
   ]
  },
  {
   "cell_type": "code",
   "execution_count": 7,
   "metadata": {},
   "outputs": [
    {
     "data": {
      "text/plain": "                        Date            User  \\\n0  2021-12-07 23:29:36+00:00         MA_CEAL   \n1  2021-12-07 23:08:19+00:00       WebAeneas   \n2  2021-12-07 23:02:41+00:00    TheAmirImani   \n3  2021-12-07 22:58:56+00:00  michaelwbunner   \n4  2021-12-07 22:58:46+00:00    drsajumathew   \n\n                                               Tweet  \\\n0  #COVIDMythBustingTuesdays! Myth: Doesn’t the #...   \n1  #vaccinated another great idea you can sue any...   \n2  I don't know if this is a \"3 dose #vaccine\" or...   \n3  Can anyone prove that the #covid #vaccine prev...   \n4  About 1600 people die each day from #COVID in ...   \n\n                                           Tweet_URL               Location  \n0  https://twitter.com/MA_CEAL/status/14683620841...  Boston, Massachusetts  \n1  https://twitter.com/WebAeneas/status/146835672...                    NaN  \n2  https://twitter.com/TheAmirImani/status/146835...                Toronto  \n3  https://twitter.com/michaelwbunner/status/1468...         Norristown, PA  \n4  https://twitter.com/drsajumathew/status/146835...            Atlanta, GA  ",
      "text/html": "<div>\n<style scoped>\n    .dataframe tbody tr th:only-of-type {\n        vertical-align: middle;\n    }\n\n    .dataframe tbody tr th {\n        vertical-align: top;\n    }\n\n    .dataframe thead th {\n        text-align: right;\n    }\n</style>\n<table border=\"1\" class=\"dataframe\">\n  <thead>\n    <tr style=\"text-align: right;\">\n      <th></th>\n      <th>Date</th>\n      <th>User</th>\n      <th>Tweet</th>\n      <th>Tweet_URL</th>\n      <th>Location</th>\n    </tr>\n  </thead>\n  <tbody>\n    <tr>\n      <th>0</th>\n      <td>2021-12-07 23:29:36+00:00</td>\n      <td>MA_CEAL</td>\n      <td>#COVIDMythBustingTuesdays! Myth: Doesn’t the #...</td>\n      <td>https://twitter.com/MA_CEAL/status/14683620841...</td>\n      <td>Boston, Massachusetts</td>\n    </tr>\n    <tr>\n      <th>1</th>\n      <td>2021-12-07 23:08:19+00:00</td>\n      <td>WebAeneas</td>\n      <td>#vaccinated another great idea you can sue any...</td>\n      <td>https://twitter.com/WebAeneas/status/146835672...</td>\n      <td>NaN</td>\n    </tr>\n    <tr>\n      <th>2</th>\n      <td>2021-12-07 23:02:41+00:00</td>\n      <td>TheAmirImani</td>\n      <td>I don't know if this is a \"3 dose #vaccine\" or...</td>\n      <td>https://twitter.com/TheAmirImani/status/146835...</td>\n      <td>Toronto</td>\n    </tr>\n    <tr>\n      <th>3</th>\n      <td>2021-12-07 22:58:56+00:00</td>\n      <td>michaelwbunner</td>\n      <td>Can anyone prove that the #covid #vaccine prev...</td>\n      <td>https://twitter.com/michaelwbunner/status/1468...</td>\n      <td>Norristown, PA</td>\n    </tr>\n    <tr>\n      <th>4</th>\n      <td>2021-12-07 22:58:46+00:00</td>\n      <td>drsajumathew</td>\n      <td>About 1600 people die each day from #COVID in ...</td>\n      <td>https://twitter.com/drsajumathew/status/146835...</td>\n      <td>Atlanta, GA</td>\n    </tr>\n  </tbody>\n</table>\n</div>"
     },
     "execution_count": 7,
     "metadata": {},
     "output_type": "execute_result"
    }
   ],
   "source": [
    "vaccine_df_2020_2021.head()"
   ]
  },
  {
   "cell_type": "code",
   "execution_count": 8,
   "metadata": {},
   "outputs": [],
   "source": [
    "# clean and filter using SPARK\n",
    "def preprocessing(df):\n",
    "    location_df = df['Location']\n",
    "    tweet_lower_df = df['Tweet'].str.lower()\n",
    "    EMOJI_PATTERN = re.compile( \\\n",
    "                           \"[\" \\\n",
    "                           \"\\U0001F1E0-\\U0001F1FF\"  \\\n",
    "                           \"\\U0001F300-\\U0001F5FF\"  \\\n",
    "                           \"\\U0001F600-\\U0001F64F\"  \\\n",
    "                           \"\\U0001F680-\\U0001F6FF\"  \\\n",
    "                           \"\\U0001F700-\\U0001F77F\" \\\n",
    "                           \"\\U0001F780-\\U0001F7FF\" \\\n",
    "                           \"\\U0001F800-\\U0001F8FF\" \\\n",
    "                           \"\\U0001F900-\\U0001F9FF\" \\\n",
    "                           \"\\U0001FA00-\\U0001FA6F\" \\\n",
    "                           \"\\U0001FA70-\\U0001FAFF\" \\\n",
    "                           \"\\U00002702-\\U000027B0\" \\\n",
    "                           \"\\U000024C2-\\U0001F251\" \\\n",
    "                           \"]+\")\n",
    "    \n",
    "    tweet_whitespace_df = tweet_lower_df.replace(r'\\s+',' ',regex=True)\n",
    "    tweet_emoji_df = tweet_whitespace_df.replace(EMOJI_PATTERN,'',regex = True)\n",
    "    tweet_hashtag_df = tweet_emoji_df.replace(r'#','',regex=True)\n",
    "    tweet_numbers_df = tweet_hashtag_df.replace(r'[0-9]+', '', regex = True)\n",
    "    tweet_punc_df = tweet_numbers_df.replace(r'[^\\w\\s]', '', regex = True)\n",
    "    \n",
    "    location_whitespace_df =  location_df.replace(r'\\s+',' ',regex=True)\n",
    "    location_hashtag_df = location_whitespace_df.replace(r'#','',regex=True)\n",
    "    location_numbers_df = location_hashtag_df.replace(r'[0-9]+','',regex=True)\n",
    "    location_emoji_df = location_numbers_df.replace(EMOJI_PATTERN,'',regex = True)\n",
    "    PUNCT_MODIFIED = r'[.|!|#|\\\"|$|%|\\'|\\(|\\)|*|+|=|<|>|~|\\{|\\}|\\\\|/|:|;|\\?|@|\\[|^|_|\\`|\\]]'\n",
    "    location_punc_df = location_emoji_df.replace(PUNCT_MODIFIED,'',regex = True)\n",
    "    return tweet_punc_df,location_punc_df\n"
   ]
  },
  {
   "cell_type": "code",
   "execution_count": 22,
   "metadata": {},
   "outputs": [],
   "source": [
    "vaccine_20_21_cleanedDF = vaccine_df_2020_2021\n",
    "vaccine_20_21_cleanedDF['Processed_Tweet'],vaccine_20_21_cleanedDF['Location'] = preprocessing(vaccine_df_2020_2021)\n",
    "vaccine_20_21_cleanedDF['Location'] = vaccine_20_21_cleanedDF['Location'].fillna('')"
   ]
  },
  {
   "cell_type": "code",
   "execution_count": 23,
   "outputs": [
    {
     "name": "stdout",
     "output_type": "stream",
     "text": [
      "['Date', 'User', 'Tweet', 'Processed_Tweet', 'Tweet_URL', 'Location']\n"
     ]
    }
   ],
   "source": [
    "#Rearrange columns\n",
    "col_list = vaccine_20_21_cleanedDF.columns.tolist()\n",
    "cols = col_list[:-3] + col_list[-1:] + col_list[3:5]\n",
    "print(cols)\n",
    "vaccine_20_21_cleanedDF = vaccine_20_21_cleanedDF[cols]"
   ],
   "metadata": {
    "collapsed": false
   }
  },
  {
   "cell_type": "code",
   "execution_count": 24,
   "outputs": [],
   "source": [
    "vaccine_20_21_cleanedDF.to_csv('new_processed.csv', encoding='utf-8')"
   ],
   "metadata": {
    "collapsed": false
   }
  },
  {
   "cell_type": "code",
   "execution_count": 25,
   "outputs": [
    {
     "data": {
      "text/plain": "                        Date            User  \\\n0  2021-12-07 23:29:36+00:00         MA_CEAL   \n1  2021-12-07 23:08:19+00:00       WebAeneas   \n2  2021-12-07 23:02:41+00:00    TheAmirImani   \n3  2021-12-07 22:58:56+00:00  michaelwbunner   \n4  2021-12-07 22:58:46+00:00    drsajumathew   \n\n                                               Tweet  \\\n0  #COVIDMythBustingTuesdays! Myth: Doesn’t the #...   \n1  #vaccinated another great idea you can sue any...   \n2  I don't know if this is a \"3 dose #vaccine\" or...   \n3  Can anyone prove that the #covid #vaccine prev...   \n4  About 1600 people die each day from #COVID in ...   \n\n                                     Processed_Tweet  \\\n0  covidmythbustingtuesdays myth doesnt the covid...   \n1  vaccinated another great idea you can sue anyo...   \n2  i dont know if this is a  dose vaccine or a se...   \n3  can anyone prove that the covid vaccine preven...   \n4  about  people die each day from covid in the u...   \n\n                                           Tweet_URL               Location  \n0  https://twitter.com/MA_CEAL/status/14683620841...  Boston, Massachusetts  \n1  https://twitter.com/WebAeneas/status/146835672...                         \n2  https://twitter.com/TheAmirImani/status/146835...                Toronto  \n3  https://twitter.com/michaelwbunner/status/1468...         Norristown, PA  \n4  https://twitter.com/drsajumathew/status/146835...            Atlanta, GA  ",
      "text/html": "<div>\n<style scoped>\n    .dataframe tbody tr th:only-of-type {\n        vertical-align: middle;\n    }\n\n    .dataframe tbody tr th {\n        vertical-align: top;\n    }\n\n    .dataframe thead th {\n        text-align: right;\n    }\n</style>\n<table border=\"1\" class=\"dataframe\">\n  <thead>\n    <tr style=\"text-align: right;\">\n      <th></th>\n      <th>Date</th>\n      <th>User</th>\n      <th>Tweet</th>\n      <th>Processed_Tweet</th>\n      <th>Tweet_URL</th>\n      <th>Location</th>\n    </tr>\n  </thead>\n  <tbody>\n    <tr>\n      <th>0</th>\n      <td>2021-12-07 23:29:36+00:00</td>\n      <td>MA_CEAL</td>\n      <td>#COVIDMythBustingTuesdays! Myth: Doesn’t the #...</td>\n      <td>covidmythbustingtuesdays myth doesnt the covid...</td>\n      <td>https://twitter.com/MA_CEAL/status/14683620841...</td>\n      <td>Boston, Massachusetts</td>\n    </tr>\n    <tr>\n      <th>1</th>\n      <td>2021-12-07 23:08:19+00:00</td>\n      <td>WebAeneas</td>\n      <td>#vaccinated another great idea you can sue any...</td>\n      <td>vaccinated another great idea you can sue anyo...</td>\n      <td>https://twitter.com/WebAeneas/status/146835672...</td>\n      <td></td>\n    </tr>\n    <tr>\n      <th>2</th>\n      <td>2021-12-07 23:02:41+00:00</td>\n      <td>TheAmirImani</td>\n      <td>I don't know if this is a \"3 dose #vaccine\" or...</td>\n      <td>i dont know if this is a  dose vaccine or a se...</td>\n      <td>https://twitter.com/TheAmirImani/status/146835...</td>\n      <td>Toronto</td>\n    </tr>\n    <tr>\n      <th>3</th>\n      <td>2021-12-07 22:58:56+00:00</td>\n      <td>michaelwbunner</td>\n      <td>Can anyone prove that the #covid #vaccine prev...</td>\n      <td>can anyone prove that the covid vaccine preven...</td>\n      <td>https://twitter.com/michaelwbunner/status/1468...</td>\n      <td>Norristown, PA</td>\n    </tr>\n    <tr>\n      <th>4</th>\n      <td>2021-12-07 22:58:46+00:00</td>\n      <td>drsajumathew</td>\n      <td>About 1600 people die each day from #COVID in ...</td>\n      <td>about  people die each day from covid in the u...</td>\n      <td>https://twitter.com/drsajumathew/status/146835...</td>\n      <td>Atlanta, GA</td>\n    </tr>\n  </tbody>\n</table>\n</div>"
     },
     "execution_count": 25,
     "metadata": {},
     "output_type": "execute_result"
    }
   ],
   "source": [
    "vaccine_20_21_cleanedDF.head()"
   ],
   "metadata": {
    "collapsed": false
   }
  },
  {
   "cell_type": "markdown",
   "metadata": {},
   "source": [
    "## ALGORITHMS"
   ]
  },
  {
   "cell_type": "markdown",
   "metadata": {},
   "source": [
    "#### Basic NLTK Operations"
   ]
  },
  {
   "cell_type": "code",
   "execution_count": null,
   "metadata": {},
   "outputs": [],
   "source": [
    "#VADER \n",
    "#ROBERTA\n",
    "#Compare and visualize \n",
    "#Pipeline for current tweet"
   ]
  }
 ],
 "metadata": {
  "kernelspec": {
   "display_name": "Python 3 (ipykernel)",
   "language": "python",
   "name": "python3"
  },
  "language_info": {
   "codemirror_mode": {
    "name": "ipython",
    "version": 3
   },
   "file_extension": ".py",
   "mimetype": "text/x-python",
   "name": "python",
   "nbconvert_exporter": "python",
   "pygments_lexer": "ipython3",
   "version": "3.9.7"
  }
 },
 "nbformat": 4,
 "nbformat_minor": 1
}
