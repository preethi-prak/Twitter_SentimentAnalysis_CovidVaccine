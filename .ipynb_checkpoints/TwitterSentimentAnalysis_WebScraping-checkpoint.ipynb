{
 "cells": [
  {
   "cell_type": "markdown",
   "metadata": {},
   "source": [
    "# TWITTER SENTIMENT ANALYSIS ON COVID DATA - WEBSCRAPING"
   ]
  },
  {
   "cell_type": "markdown",
   "metadata": {},
   "source": [
    "## Importing Packages and Connecting Data"
   ]
  },
  {
   "cell_type": "code",
   "execution_count": 14,
   "metadata": {},
   "outputs": [],
   "source": [
    "import numpy as np\n",
    "import pandas as pd\n",
    "import seaborn as sns\n",
    "import nltk\n",
    "import snscrape.modules.twitter as sntwitter\n",
    "from tqdm.notebook import tqdm\n",
    "from pathlib import Path  \n",
    "import re\n",
    "import string\n",
    "from transformers import AutoTokenizer\n",
    "#add package\n",
    "from transformers import AutoModelForSequenceClassification\n",
    "from scipy.special import softmax"
   ]
  },
  {
   "cell_type": "code",
   "execution_count": 15,
   "metadata": {},
   "outputs": [],
   "source": [
    "#package for social network scraping\n",
    "#pip install snscrape"
   ]
  },
  {
   "cell_type": "markdown",
   "metadata": {},
   "source": [
    "## Web Scraping for CovidVaccine  related tweets "
   ]
  },
  {
   "cell_type": "code",
   "execution_count": 16,
   "metadata": {},
   "outputs": [
    {
     "data": {
      "application/vnd.jupyter.widget-view+json": {
       "model_id": "da3b512972784734a2acf7f1c89d267e",
       "version_major": 2,
       "version_minor": 0
      },
      "text/plain": [
       "  0%|          | 0/10000 [00:00<?, ?it/s]"
      ]
     },
     "metadata": {},
     "output_type": "display_data"
    },
    {
     "data": {
      "text/html": [
       "<div>\n",
       "<style scoped>\n",
       "    .dataframe tbody tr th:only-of-type {\n",
       "        vertical-align: middle;\n",
       "    }\n",
       "\n",
       "    .dataframe tbody tr th {\n",
       "        vertical-align: top;\n",
       "    }\n",
       "\n",
       "    .dataframe thead th {\n",
       "        text-align: right;\n",
       "    }\n",
       "</style>\n",
       "<table border=\"1\" class=\"dataframe\">\n",
       "  <thead>\n",
       "    <tr style=\"text-align: right;\">\n",
       "      <th></th>\n",
       "      <th>Date</th>\n",
       "      <th>User</th>\n",
       "      <th>Tweet</th>\n",
       "      <th>Tweet_URL</th>\n",
       "      <th>Location</th>\n",
       "    </tr>\n",
       "  </thead>\n",
       "  <tbody>\n",
       "    <tr>\n",
       "      <th>0</th>\n",
       "      <td>2021-12-07 23:58:57+00:00</td>\n",
       "      <td>TPedherney</td>\n",
       "      <td>In line to get my booster #vaccine #Booster #P...</td>\n",
       "      <td>https://twitter.com/TPedherney/status/14683694...</td>\n",
       "      <td>Burlington, ON</td>\n",
       "    </tr>\n",
       "    <tr>\n",
       "      <th>1</th>\n",
       "      <td>2021-12-07 23:32:39+00:00</td>\n",
       "      <td>cwillits30</td>\n",
       "      <td>Officially boosted! First done of Moderna afte...</td>\n",
       "      <td>https://twitter.com/cwillits30/status/14683628...</td>\n",
       "      <td>Phoenix, AZ</td>\n",
       "    </tr>\n",
       "    <tr>\n",
       "      <th>2</th>\n",
       "      <td>2021-12-07 22:08:57+00:00</td>\n",
       "      <td>talking_biscuit</td>\n",
       "      <td>My 6 yo #neurodiverse kiddo just got his 2nd C...</td>\n",
       "      <td>https://twitter.com/talking_biscuit/status/146...</td>\n",
       "      <td>Sacramento, CA</td>\n",
       "    </tr>\n",
       "    <tr>\n",
       "      <th>3</th>\n",
       "      <td>2021-12-07 22:03:38+00:00</td>\n",
       "      <td>chris_brennan91</td>\n",
       "      <td>Omicron has now been confirmed as not only mor...</td>\n",
       "      <td>https://twitter.com/chris_brennan91/status/146...</td>\n",
       "      <td>Newcastle Upon Tyne, England</td>\n",
       "    </tr>\n",
       "    <tr>\n",
       "      <th>4</th>\n",
       "      <td>2021-12-07 21:32:59+00:00</td>\n",
       "      <td>annabotting</td>\n",
       "      <td>#BREAKING - Antibodies from the #Pfizer vaccin...</td>\n",
       "      <td>https://twitter.com/annabotting/status/1468332...</td>\n",
       "      <td>Sky News</td>\n",
       "    </tr>\n",
       "  </tbody>\n",
       "</table>\n",
       "</div>"
      ],
      "text/plain": [
       "                       Date             User  \\\n",
       "0 2021-12-07 23:58:57+00:00       TPedherney   \n",
       "1 2021-12-07 23:32:39+00:00       cwillits30   \n",
       "2 2021-12-07 22:08:57+00:00  talking_biscuit   \n",
       "3 2021-12-07 22:03:38+00:00  chris_brennan91   \n",
       "4 2021-12-07 21:32:59+00:00      annabotting   \n",
       "\n",
       "                                               Tweet  \\\n",
       "0  In line to get my booster #vaccine #Booster #P...   \n",
       "1  Officially boosted! First done of Moderna afte...   \n",
       "2  My 6 yo #neurodiverse kiddo just got his 2nd C...   \n",
       "3  Omicron has now been confirmed as not only mor...   \n",
       "4  #BREAKING - Antibodies from the #Pfizer vaccin...   \n",
       "\n",
       "                                           Tweet_URL  \\\n",
       "0  https://twitter.com/TPedherney/status/14683694...   \n",
       "1  https://twitter.com/cwillits30/status/14683628...   \n",
       "2  https://twitter.com/talking_biscuit/status/146...   \n",
       "3  https://twitter.com/chris_brennan91/status/146...   \n",
       "4  https://twitter.com/annabotting/status/1468332...   \n",
       "\n",
       "                       Location  \n",
       "0                Burlington, ON  \n",
       "1                   Phoenix, AZ  \n",
       "2                Sacramento, CA  \n",
       "3  Newcastle Upon Tyne, England  \n",
       "4                      Sky News  "
      ]
     },
     "execution_count": 16,
     "metadata": {},
     "output_type": "execute_result"
    }
   ],
   "source": [
    "\n",
    "# webscaping from 2020 to 2021\n",
    "tweets = []\n",
    "limit = 10000\n",
    "\n",
    "query = \"(covid+vaccine OR Nuvaxovid OR Novavax OR pfizer OR pfizer-biontech OR pfizerbiontech OR moderna OR astrazeneca OR astra+zeneca) -availability -free -slot -slots -trade -trades (#covidvaccine OR #CovidVaccine OR #vaccine OR #covid OR #Covid19Vaccine OR #CoronaVirusVaccine ) lang:en until:2021-12-8 since:2020-12-08 -filter:links -filter:replies\"\n",
    "\n",
    "for tweet in tqdm(sntwitter.TwitterSearchScraper(query).get_items(),total = limit):\n",
    "    if len(tweets) == limit:\n",
    "        break\n",
    "    else:\n",
    "        tweets.append([tweet.date,tweet.user.username,tweet.content,tweet.url,tweet.user.location])\n",
    "vaccine_df_2020_2021 = pd.DataFrame(tweets,columns=['Date','User','Tweet','Tweet_URL','Location'])\n",
    "vaccine_df_2020_2021.head()\n"
   ]
  },
  {
   "cell_type": "code",
   "execution_count": 17,
   "metadata": {},
   "outputs": [
    {
     "data": {
      "text/html": [
       "<div>\n",
       "<style scoped>\n",
       "    .dataframe tbody tr th:only-of-type {\n",
       "        vertical-align: middle;\n",
       "    }\n",
       "\n",
       "    .dataframe tbody tr th {\n",
       "        vertical-align: top;\n",
       "    }\n",
       "\n",
       "    .dataframe thead th {\n",
       "        text-align: right;\n",
       "    }\n",
       "</style>\n",
       "<table border=\"1\" class=\"dataframe\">\n",
       "  <thead>\n",
       "    <tr style=\"text-align: right;\">\n",
       "      <th></th>\n",
       "      <th>Date</th>\n",
       "      <th>User</th>\n",
       "      <th>Tweet</th>\n",
       "      <th>Tweet_URL</th>\n",
       "      <th>Location</th>\n",
       "    </tr>\n",
       "  </thead>\n",
       "  <tbody>\n",
       "    <tr>\n",
       "      <th>0</th>\n",
       "      <td>2021-12-07 23:58:57+00:00</td>\n",
       "      <td>TPedherney</td>\n",
       "      <td>In line to get my booster #vaccine #Booster #P...</td>\n",
       "      <td>https://twitter.com/TPedherney/status/14683694...</td>\n",
       "      <td>Burlington, ON</td>\n",
       "    </tr>\n",
       "    <tr>\n",
       "      <th>1</th>\n",
       "      <td>2021-12-07 23:32:39+00:00</td>\n",
       "      <td>cwillits30</td>\n",
       "      <td>Officially boosted! First done of Moderna afte...</td>\n",
       "      <td>https://twitter.com/cwillits30/status/14683628...</td>\n",
       "      <td>Phoenix, AZ</td>\n",
       "    </tr>\n",
       "    <tr>\n",
       "      <th>2</th>\n",
       "      <td>2021-12-07 22:08:57+00:00</td>\n",
       "      <td>talking_biscuit</td>\n",
       "      <td>My 6 yo #neurodiverse kiddo just got his 2nd C...</td>\n",
       "      <td>https://twitter.com/talking_biscuit/status/146...</td>\n",
       "      <td>Sacramento, CA</td>\n",
       "    </tr>\n",
       "    <tr>\n",
       "      <th>3</th>\n",
       "      <td>2021-12-07 22:03:38+00:00</td>\n",
       "      <td>chris_brennan91</td>\n",
       "      <td>Omicron has now been confirmed as not only mor...</td>\n",
       "      <td>https://twitter.com/chris_brennan91/status/146...</td>\n",
       "      <td>Newcastle Upon Tyne, England</td>\n",
       "    </tr>\n",
       "    <tr>\n",
       "      <th>4</th>\n",
       "      <td>2021-12-07 21:32:59+00:00</td>\n",
       "      <td>annabotting</td>\n",
       "      <td>#BREAKING - Antibodies from the #Pfizer vaccin...</td>\n",
       "      <td>https://twitter.com/annabotting/status/1468332...</td>\n",
       "      <td>Sky News</td>\n",
       "    </tr>\n",
       "  </tbody>\n",
       "</table>\n",
       "</div>"
      ],
      "text/plain": [
       "                       Date             User  \\\n",
       "0 2021-12-07 23:58:57+00:00       TPedherney   \n",
       "1 2021-12-07 23:32:39+00:00       cwillits30   \n",
       "2 2021-12-07 22:08:57+00:00  talking_biscuit   \n",
       "3 2021-12-07 22:03:38+00:00  chris_brennan91   \n",
       "4 2021-12-07 21:32:59+00:00      annabotting   \n",
       "\n",
       "                                               Tweet  \\\n",
       "0  In line to get my booster #vaccine #Booster #P...   \n",
       "1  Officially boosted! First done of Moderna afte...   \n",
       "2  My 6 yo #neurodiverse kiddo just got his 2nd C...   \n",
       "3  Omicron has now been confirmed as not only mor...   \n",
       "4  #BREAKING - Antibodies from the #Pfizer vaccin...   \n",
       "\n",
       "                                           Tweet_URL  \\\n",
       "0  https://twitter.com/TPedherney/status/14683694...   \n",
       "1  https://twitter.com/cwillits30/status/14683628...   \n",
       "2  https://twitter.com/talking_biscuit/status/146...   \n",
       "3  https://twitter.com/chris_brennan91/status/146...   \n",
       "4  https://twitter.com/annabotting/status/1468332...   \n",
       "\n",
       "                       Location  \n",
       "0                Burlington, ON  \n",
       "1                   Phoenix, AZ  \n",
       "2                Sacramento, CA  \n",
       "3  Newcastle Upon Tyne, England  \n",
       "4                      Sky News  "
      ]
     },
     "execution_count": 17,
     "metadata": {},
     "output_type": "execute_result"
    }
   ],
   "source": [
    "vaccine_df_2020_2021_newline_cleaned = vaccine_df_2020_2021.replace(r'\\n',' ', regex=True).replace(r'\\r',' ', regex=True).replace(r'\\t',' ', regex=True)\n",
    "vaccine_df_2020_2021_newline_cleaned1 = vaccine_df_2020_2021_newline_cleaned.replace(r'\\\\r',' ', regex=True).replace(r'\\\\n',' ', regex=True).replace(r'\\\\t',' ',regex=True)\n",
    "vaccine_df_2020_2021_white_space = vaccine_df_2020_2021_newline_cleaned1.replace(r' +',' ',regex=True)\n",
    "vaccine_df_2020_2021_white_space.head()"
   ]
  },
  {
   "cell_type": "code",
   "execution_count": 18,
   "metadata": {},
   "outputs": [
    {
     "data": {
      "text/plain": [
       "\"#FY22NDAA says anyone discharged from the military solely due to refusing the #COVID vaccine will be honorable or general under honorable conditions. Applies to discharges from 8/24/21 to two years after the NDAA's enactment.\""
      ]
     },
     "execution_count": 18,
     "metadata": {},
     "output_type": "execute_result"
    }
   ],
   "source": [
    "vaccine_df_2020_2021['Tweet'][6]"
   ]
  },
  {
   "cell_type": "code",
   "execution_count": 19,
   "metadata": {},
   "outputs": [
    {
     "data": {
      "text/plain": [
       "\"#FY22NDAA says anyone discharged from the military solely due to refusing the #COVID vaccine will be honorable or general under honorable conditions. Applies to discharges from 8/24/21 to two years after the NDAA's enactment.\""
      ]
     },
     "execution_count": 19,
     "metadata": {},
     "output_type": "execute_result"
    }
   ],
   "source": [
    "vaccine_df_2020_2021_white_space['Tweet'][6]"
   ]
  },
  {
   "cell_type": "code",
   "execution_count": 20,
   "metadata": {},
   "outputs": [
    {
     "data": {
      "text/plain": [
       "1559"
      ]
     },
     "execution_count": 20,
     "metadata": {},
     "output_type": "execute_result"
    }
   ],
   "source": [
    "vaccine_df_2020_2021_white_space.duplicated(subset=['Tweet']).sum()"
   ]
  },
  {
   "cell_type": "code",
   "execution_count": 21,
   "metadata": {},
   "outputs": [
    {
     "data": {
      "text/plain": [
       "(8441, 5)"
      ]
     },
     "execution_count": 21,
     "metadata": {},
     "output_type": "execute_result"
    }
   ],
   "source": [
    "vaccine_df_clean=vaccine_df_2020_2021_white_space.drop_duplicates(subset=['Tweet'])\n",
    "vaccine_df_clean.shape"
   ]
  },
  {
   "cell_type": "code",
   "execution_count": 22,
   "metadata": {},
   "outputs": [],
   "source": [
    "filepath = Path('data/vaccine_output_2020_2021.csv')  \n",
    "filepath.parent.mkdir(parents=True, exist_ok=True)\n",
    "vaccine_df_clean.to_csv(filepath)"
   ]
  },
  {
   "cell_type": "code",
   "execution_count": 23,
   "metadata": {},
   "outputs": [
    {
     "data": {
      "application/vnd.jupyter.widget-view+json": {
       "model_id": "0bbc91f370e74d0b97323188d327d550",
       "version_major": 2,
       "version_minor": 0
      },
      "text/plain": [
       "  0%|          | 0/10000 [00:00<?, ?it/s]"
      ]
     },
     "metadata": {},
     "output_type": "display_data"
    }
   ],
   "source": [
    "#Webscraping from 2021 to 2022\n",
    "tweets = []\n",
    "query = \"(covid+vaccine OR Nuvaxovid OR Novavax OR pfizer OR pfizer-biontech OR pfizerbiontech OR moderna OR astrazeneca OR astra+zeneca) -availability -free -slot -slots -trade -trades (#covidvaccine OR #CovidVaccine OR #vaccine OR #covid OR #Covid19Vaccine OR #CoronaVirusVaccine ) lang:en until:2022-11-20 since:2021-12-08 -filter:links -filter:replies\"\n",
    "\n",
    "for tweet in tqdm(sntwitter.TwitterSearchScraper(query).get_items(),total = limit):\n",
    "    if len(tweets) == limit:\n",
    "        break\n",
    "    else:\n",
    "        tweets.append([tweet.date,tweet.user.username,tweet.content,tweet.url,tweet.user.location])\n",
    "vaccine_df_2021_2022 = pd.DataFrame(tweets,columns=['Date','User','Tweet','Tweet_URL','Location'])"
   ]
  },
  {
   "cell_type": "code",
   "execution_count": 24,
   "metadata": {},
   "outputs": [
    {
     "data": {
      "text/plain": [
       "279"
      ]
     },
     "execution_count": 24,
     "metadata": {},
     "output_type": "execute_result"
    }
   ],
   "source": [
    "vaccine_df_2021_2022_newline_cleaned = vaccine_df_2021_2022.replace(r'\\n',' ', regex=True).replace(r'\\r',' ', regex=True).replace(r'\\t',' ', regex=True)\n",
    "vaccine_df_2021_2022_newline_cleaned1 = vaccine_df_2021_2022_newline_cleaned.replace(r'\\\\r',' ', regex=True).replace(r'\\\\n',' ', regex=True).replace(r'\\\\t',' ',regex=True)\n",
    "vaccine_df_2021_2022_white_space = vaccine_df_2021_2022_newline_cleaned1.replace(r' +',' ',regex=True)\n",
    "vaccine_df_2021_2022_white_space.duplicated(subset=['Tweet']).sum()"
   ]
  },
  {
   "cell_type": "code",
   "execution_count": 25,
   "metadata": {},
   "outputs": [
    {
     "data": {
      "text/plain": [
       "(7481, 5)"
      ]
     },
     "execution_count": 25,
     "metadata": {},
     "output_type": "execute_result"
    }
   ],
   "source": [
    "vaccine_df_2021_2022_clean=vaccine_df_2021_2022_white_space.drop_duplicates(subset=['Tweet'])\n",
    "vaccine_df_2021_2022_clean.shape"
   ]
  },
  {
   "cell_type": "code",
   "execution_count": 26,
   "metadata": {},
   "outputs": [],
   "source": [
    "filepath = Path('data/vaccine_output_2021_2022.csv')  \n",
    "filepath.parent.mkdir(parents=True, exist_ok=True)\n",
    "vaccine_df_2021_2022_clean.to_csv(filepath)"
   ]
  }
 ],
 "metadata": {
  "kernelspec": {
   "display_name": "Python 3 (ipykernel)",
   "language": "python",
   "name": "python3"
  },
  "language_info": {
   "codemirror_mode": {
    "name": "ipython",
    "version": 3
   },
   "file_extension": ".py",
   "mimetype": "text/x-python",
   "name": "python",
   "nbconvert_exporter": "python",
   "pygments_lexer": "ipython3",
   "version": "3.9.7"
  }
 },
 "nbformat": 4,
 "nbformat_minor": 1
}
