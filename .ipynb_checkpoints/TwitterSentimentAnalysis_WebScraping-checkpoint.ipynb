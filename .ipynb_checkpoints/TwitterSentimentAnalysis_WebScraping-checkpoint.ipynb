{
 "cells": [
  {
   "cell_type": "markdown",
   "metadata": {},
   "source": [
    "# TWITTER SENTIMENT ANALYSIS ON COVID DATA - WEBSCRAPING"
   ]
  },
  {
   "cell_type": "markdown",
   "metadata": {},
   "source": [
    "## Importing Packages and Connecting Data"
   ]
  },
  {
   "cell_type": "code",
   "execution_count": 12,
   "metadata": {},
   "outputs": [],
   "source": [
    "import numpy as np\n",
    "import pandas as pd\n",
    "import seaborn as sns\n",
    "import nltk\n",
    "import snscrape.modules.twitter as sntwitter\n",
    "from tqdm.notebook import tqdm\n",
    "from pathlib import Path  \n",
    "import re\n",
    "import string\n",
    "from transformers import AutoTokenizer\n",
    "#add package\n",
    "from transformers import AutoModelForSequenceClassification\n",
    "from scipy.special import softmax"
   ]
  },
  {
   "cell_type": "code",
   "execution_count": 13,
   "metadata": {},
   "outputs": [],
   "source": [
    "#package for social network scraping\n",
    "#pip install snscrape"
   ]
  },
  {
   "cell_type": "markdown",
   "metadata": {},
   "source": [
    "## Web Scraping for CovidVaccine  related tweets "
   ]
  },
  {
   "cell_type": "code",
   "execution_count": 14,
   "metadata": {
    "scrolled": true
   },
   "outputs": [
    {
     "name": "stdout",
     "output_type": "stream",
     "text": [
      "{'url': 'https://twitter.com/EvanBoothe25/status/1589354034343055363', 'date': datetime.datetime(2022, 11, 6, 20, 28, 25, tzinfo=datetime.timezone.utc), 'content': '@ShitpostGate Python master race 💪😎🐍', 'renderedContent': '@ShitpostGate Python master race 💪😎🐍', 'id': 1589354034343055363, 'user': User(username='EvanBoothe25', id=1518032591470751744, displayname='Evan Boothe', description='MIT class of 2025, jazz musician, conservative national populist, future Caesar of the American Empire, Hawaiian shirt appreciator, ginger beer aficionado, Okie', rawDescription='MIT class of 2025, jazz musician, conservative national populist, future Caesar of the American Empire, Hawaiian shirt appreciator, ginger beer aficionado, Okie', descriptionUrls=None, verified=False, created=datetime.datetime(2022, 4, 24, 1, 2, 37, tzinfo=datetime.timezone.utc), followersCount=81, friendsCount=113, statusesCount=1904, favouritesCount=19581, listedCount=0, mediaCount=101, location='Cambridge, MA', protected=False, linkUrl=None, linkTcourl=None, profileImageUrl='https://pbs.twimg.com/profile_images/1572815101861990402/HBiRjkrM_normal.jpg', profileBannerUrl='https://pbs.twimg.com/profile_banners/1518032591470751744/1651286640', label=None), 'replyCount': 0, 'retweetCount': 0, 'likeCount': 0, 'quoteCount': 0, 'conversationId': 1589338652659748864, 'lang': 'et', 'source': '<a href=\"http://twitter.com/download/iphone\" rel=\"nofollow\">Twitter for iPhone</a>', 'sourceUrl': 'http://twitter.com/download/iphone', 'sourceLabel': 'Twitter for iPhone', 'outlinks': None, 'tcooutlinks': None, 'media': None, 'retweetedTweet': None, 'quotedTweet': None, 'inReplyToTweetId': 1589338652659748864, 'inReplyToUser': User(username='ShitpostGate', id=1474091860025122817, displayname='ShitpostGateway', description=None, rawDescription=None, descriptionUrls=None, verified=None, created=None, followersCount=None, friendsCount=None, statusesCount=None, favouritesCount=None, listedCount=None, mediaCount=None, location=None, protected=None, linkUrl=None, linkTcourl=None, profileImageUrl=None, profileBannerUrl=None, label=None), 'mentionedUsers': [User(username='ShitpostGate', id=1474091860025122817, displayname='ShitpostGateway', description=None, rawDescription=None, descriptionUrls=None, verified=None, created=None, followersCount=None, friendsCount=None, statusesCount=None, favouritesCount=None, listedCount=None, mediaCount=None, location=None, protected=None, linkUrl=None, linkTcourl=None, profileImageUrl=None, profileBannerUrl=None, label=None)], 'coordinates': None, 'place': None, 'hashtags': None, 'cashtags': None}\n"
     ]
    }
   ],
   "source": [
    "query = \"python\"\n",
    "\n",
    "for tweet in sntwitter.TwitterSearchScraper(query).get_items():\n",
    "    print(vars(tweet))\n",
    "    break"
   ]
  },
  {
   "cell_type": "code",
   "execution_count": 15,
   "metadata": {},
   "outputs": [
    {
     "data": {
      "application/vnd.jupyter.widget-view+json": {
       "model_id": "eda09fee21b04fc6a9dbb9282e75595e",
       "version_major": 2,
       "version_minor": 0
      },
      "text/plain": [
       "  0%|          | 0/1000 [00:00<?, ?it/s]"
      ]
     },
     "metadata": {},
     "output_type": "display_data"
    },
    {
     "data": {
      "text/html": [
       "<div>\n",
       "<style scoped>\n",
       "    .dataframe tbody tr th:only-of-type {\n",
       "        vertical-align: middle;\n",
       "    }\n",
       "\n",
       "    .dataframe tbody tr th {\n",
       "        vertical-align: top;\n",
       "    }\n",
       "\n",
       "    .dataframe thead th {\n",
       "        text-align: right;\n",
       "    }\n",
       "</style>\n",
       "<table border=\"1\" class=\"dataframe\">\n",
       "  <thead>\n",
       "    <tr style=\"text-align: right;\">\n",
       "      <th></th>\n",
       "      <th>Date</th>\n",
       "      <th>User</th>\n",
       "      <th>Tweet</th>\n",
       "      <th>Tweet_URL</th>\n",
       "      <th>Location</th>\n",
       "    </tr>\n",
       "  </thead>\n",
       "  <tbody>\n",
       "    <tr>\n",
       "      <th>0</th>\n",
       "      <td>2021-12-07 23:29:36+00:00</td>\n",
       "      <td>MA_CEAL</td>\n",
       "      <td>#COVIDMythBustingTuesdays! \\n\\nMyth: Doesn’t t...</td>\n",
       "      <td>https://twitter.com/MA_CEAL/status/14683620841...</td>\n",
       "      <td>Boston, Massachusetts</td>\n",
       "    </tr>\n",
       "    <tr>\n",
       "      <th>1</th>\n",
       "      <td>2021-12-07 23:08:19+00:00</td>\n",
       "      <td>WebAeneas</td>\n",
       "      <td>#vaccinated another great idea you can sue any...</td>\n",
       "      <td>https://twitter.com/WebAeneas/status/146835672...</td>\n",
       "      <td></td>\n",
       "    </tr>\n",
       "    <tr>\n",
       "      <th>2</th>\n",
       "      <td>2021-12-07 23:02:41+00:00</td>\n",
       "      <td>TheAmirImani</td>\n",
       "      <td>I don't know if this is a \"3 dose #vaccine\" or...</td>\n",
       "      <td>https://twitter.com/TheAmirImani/status/146835...</td>\n",
       "      <td>Toronto</td>\n",
       "    </tr>\n",
       "    <tr>\n",
       "      <th>3</th>\n",
       "      <td>2021-12-07 22:58:56+00:00</td>\n",
       "      <td>michaelwbunner</td>\n",
       "      <td>Can anyone prove that the #covid #vaccine prev...</td>\n",
       "      <td>https://twitter.com/michaelwbunner/status/1468...</td>\n",
       "      <td>Norristown, PA</td>\n",
       "    </tr>\n",
       "    <tr>\n",
       "      <th>4</th>\n",
       "      <td>2021-12-07 22:58:46+00:00</td>\n",
       "      <td>drsajumathew</td>\n",
       "      <td>About 1600 people die each day from #COVID in ...</td>\n",
       "      <td>https://twitter.com/drsajumathew/status/146835...</td>\n",
       "      <td>Atlanta, GA</td>\n",
       "    </tr>\n",
       "  </tbody>\n",
       "</table>\n",
       "</div>"
      ],
      "text/plain": [
       "                       Date            User  \\\n",
       "0 2021-12-07 23:29:36+00:00         MA_CEAL   \n",
       "1 2021-12-07 23:08:19+00:00       WebAeneas   \n",
       "2 2021-12-07 23:02:41+00:00    TheAmirImani   \n",
       "3 2021-12-07 22:58:56+00:00  michaelwbunner   \n",
       "4 2021-12-07 22:58:46+00:00    drsajumathew   \n",
       "\n",
       "                                               Tweet  \\\n",
       "0  #COVIDMythBustingTuesdays! \\n\\nMyth: Doesn’t t...   \n",
       "1  #vaccinated another great idea you can sue any...   \n",
       "2  I don't know if this is a \"3 dose #vaccine\" or...   \n",
       "3  Can anyone prove that the #covid #vaccine prev...   \n",
       "4  About 1600 people die each day from #COVID in ...   \n",
       "\n",
       "                                           Tweet_URL               Location  \n",
       "0  https://twitter.com/MA_CEAL/status/14683620841...  Boston, Massachusetts  \n",
       "1  https://twitter.com/WebAeneas/status/146835672...                         \n",
       "2  https://twitter.com/TheAmirImani/status/146835...                Toronto  \n",
       "3  https://twitter.com/michaelwbunner/status/1468...         Norristown, PA  \n",
       "4  https://twitter.com/drsajumathew/status/146835...            Atlanta, GA  "
      ]
     },
     "execution_count": 15,
     "metadata": {},
     "output_type": "execute_result"
    }
   ],
   "source": [
    "\n",
    "# webscaping from 2020 to 2021\n",
    "tweets = []\n",
    "limit = 1000\n",
    "\n",
    "query = \"covid vaccine -availability -free -slot -slots -trade -trades (#covidvaccine OR #CovidVaccine OR #vaccine OR #covid OR #Covid19Vaccine OR #CoronaVirusVaccine ) lang:en until:2021-12-8 since:2020-12-08 -filter:links -filter:replies\"\n",
    "\n",
    "for tweet in tqdm(sntwitter.TwitterSearchScraper(query).get_items(),total = limit):\n",
    "    if len(tweets) == limit:\n",
    "        break\n",
    "    else:\n",
    "        tweets.append([tweet.date,tweet.user.username,tweet.content,tweet.url,tweet.user.location])\n",
    "vaccine_df_2020_2021 = pd.DataFrame(tweets,columns=['Date','User','Tweet','Tweet_URL','Location'])\n",
    "vaccine_df_2020_2021.head()\n"
   ]
  },
  {
   "cell_type": "code",
   "execution_count": 16,
   "metadata": {},
   "outputs": [
    {
     "data": {
      "text/html": [
       "<div>\n",
       "<style scoped>\n",
       "    .dataframe tbody tr th:only-of-type {\n",
       "        vertical-align: middle;\n",
       "    }\n",
       "\n",
       "    .dataframe tbody tr th {\n",
       "        vertical-align: top;\n",
       "    }\n",
       "\n",
       "    .dataframe thead th {\n",
       "        text-align: right;\n",
       "    }\n",
       "</style>\n",
       "<table border=\"1\" class=\"dataframe\">\n",
       "  <thead>\n",
       "    <tr style=\"text-align: right;\">\n",
       "      <th></th>\n",
       "      <th>Date</th>\n",
       "      <th>User</th>\n",
       "      <th>Tweet</th>\n",
       "      <th>Tweet_URL</th>\n",
       "      <th>Location</th>\n",
       "    </tr>\n",
       "  </thead>\n",
       "  <tbody>\n",
       "    <tr>\n",
       "      <th>0</th>\n",
       "      <td>2021-12-07 23:29:36+00:00</td>\n",
       "      <td>MA_CEAL</td>\n",
       "      <td>#COVIDMythBustingTuesdays! Myth: Doesn’t the #...</td>\n",
       "      <td>https://twitter.com/MA_CEAL/status/14683620841...</td>\n",
       "      <td>Boston, Massachusetts</td>\n",
       "    </tr>\n",
       "    <tr>\n",
       "      <th>1</th>\n",
       "      <td>2021-12-07 23:08:19+00:00</td>\n",
       "      <td>WebAeneas</td>\n",
       "      <td>#vaccinated another great idea you can sue any...</td>\n",
       "      <td>https://twitter.com/WebAeneas/status/146835672...</td>\n",
       "      <td></td>\n",
       "    </tr>\n",
       "    <tr>\n",
       "      <th>2</th>\n",
       "      <td>2021-12-07 23:02:41+00:00</td>\n",
       "      <td>TheAmirImani</td>\n",
       "      <td>I don't know if this is a \"3 dose #vaccine\" or...</td>\n",
       "      <td>https://twitter.com/TheAmirImani/status/146835...</td>\n",
       "      <td>Toronto</td>\n",
       "    </tr>\n",
       "    <tr>\n",
       "      <th>3</th>\n",
       "      <td>2021-12-07 22:58:56+00:00</td>\n",
       "      <td>michaelwbunner</td>\n",
       "      <td>Can anyone prove that the #covid #vaccine prev...</td>\n",
       "      <td>https://twitter.com/michaelwbunner/status/1468...</td>\n",
       "      <td>Norristown, PA</td>\n",
       "    </tr>\n",
       "    <tr>\n",
       "      <th>4</th>\n",
       "      <td>2021-12-07 22:58:46+00:00</td>\n",
       "      <td>drsajumathew</td>\n",
       "      <td>About 1600 people die each day from #COVID in ...</td>\n",
       "      <td>https://twitter.com/drsajumathew/status/146835...</td>\n",
       "      <td>Atlanta, GA</td>\n",
       "    </tr>\n",
       "  </tbody>\n",
       "</table>\n",
       "</div>"
      ],
      "text/plain": [
       "                       Date            User  \\\n",
       "0 2021-12-07 23:29:36+00:00         MA_CEAL   \n",
       "1 2021-12-07 23:08:19+00:00       WebAeneas   \n",
       "2 2021-12-07 23:02:41+00:00    TheAmirImani   \n",
       "3 2021-12-07 22:58:56+00:00  michaelwbunner   \n",
       "4 2021-12-07 22:58:46+00:00    drsajumathew   \n",
       "\n",
       "                                               Tweet  \\\n",
       "0  #COVIDMythBustingTuesdays! Myth: Doesn’t the #...   \n",
       "1  #vaccinated another great idea you can sue any...   \n",
       "2  I don't know if this is a \"3 dose #vaccine\" or...   \n",
       "3  Can anyone prove that the #covid #vaccine prev...   \n",
       "4  About 1600 people die each day from #COVID in ...   \n",
       "\n",
       "                                           Tweet_URL               Location  \n",
       "0  https://twitter.com/MA_CEAL/status/14683620841...  Boston, Massachusetts  \n",
       "1  https://twitter.com/WebAeneas/status/146835672...                         \n",
       "2  https://twitter.com/TheAmirImani/status/146835...                Toronto  \n",
       "3  https://twitter.com/michaelwbunner/status/1468...         Norristown, PA  \n",
       "4  https://twitter.com/drsajumathew/status/146835...            Atlanta, GA  "
      ]
     },
     "execution_count": 16,
     "metadata": {},
     "output_type": "execute_result"
    }
   ],
   "source": [
    "vaccine_df_2020_2021_newline_cleaned = vaccine_df_2020_2021.replace(r'\\n',' ', regex=True).replace(r'\\r',' ', regex=True).replace(r'\\t',' ', regex=True)\n",
    "vaccine_df_2020_2021_newline_cleaned1 = vaccine_df_2020_2021_newline_cleaned.replace(r'\\\\r',' ', regex=True).replace(r'\\\\n',' ', regex=True).replace(r'\\\\t',' ',regex=True)\n",
    "vaccine_df_2020_2021_white_space = vaccine_df_2020_2021_newline_cleaned1.replace(r' +',' ',regex=True)\n",
    "vaccine_df_2020_2021_white_space.head()"
   ]
  },
  {
   "cell_type": "code",
   "execution_count": 17,
   "metadata": {},
   "outputs": [
    {
     "data": {
      "text/plain": [
       "'\"Up till now\\rthose of us who want to remain in our normal health state have been derisively known as “The Unvaccinated.” We need to change\\rthe perception, change the narrative.\\nKG Wordsmith Warrior (in part) \\nWe choose to be #vaccinefree of #CovidVaccine we are not #unvaccinated'"
      ]
     },
     "execution_count": 17,
     "metadata": {},
     "output_type": "execute_result"
    }
   ],
   "source": [
    "vaccine_df_2020_2021['Tweet'][6]"
   ]
  },
  {
   "cell_type": "code",
   "execution_count": 18,
   "metadata": {},
   "outputs": [
    {
     "data": {
      "text/plain": [
       "'\"Up till now those of us who want to remain in our normal health state have been derisively known as “The Unvaccinated.” We need to change the perception, change the narrative. KG Wordsmith Warrior (in part) We choose to be #vaccinefree of #CovidVaccine we are not #unvaccinated'"
      ]
     },
     "execution_count": 18,
     "metadata": {},
     "output_type": "execute_result"
    }
   ],
   "source": [
    "vaccine_df_2020_2021_white_space['Tweet'][6]"
   ]
  },
  {
   "cell_type": "code",
   "execution_count": 19,
   "metadata": {},
   "outputs": [
    {
     "data": {
      "text/plain": [
       "1"
      ]
     },
     "execution_count": 19,
     "metadata": {},
     "output_type": "execute_result"
    }
   ],
   "source": [
    "vaccine_df_2020_2021_white_space.duplicated(subset=['Tweet']).sum()"
   ]
  },
  {
   "cell_type": "code",
   "execution_count": 20,
   "metadata": {},
   "outputs": [
    {
     "data": {
      "text/plain": [
       "(999, 5)"
      ]
     },
     "execution_count": 20,
     "metadata": {},
     "output_type": "execute_result"
    }
   ],
   "source": [
    "vaccine_df_clean=vaccine_df_2020_2021_white_space.drop_duplicates(subset=['Tweet'])\n",
    "vaccine_df_clean.shape"
   ]
  },
  {
   "cell_type": "code",
   "execution_count": 21,
   "metadata": {},
   "outputs": [],
   "source": [
    "filepath = Path('data/vaccine_output_2020_2021.csv')  \n",
    "filepath.parent.mkdir(parents=True, exist_ok=True)\n",
    "vaccine_df_clean.to_csv(filepath)"
   ]
  },
  {
   "cell_type": "code",
   "execution_count": 22,
   "metadata": {},
   "outputs": [
    {
     "data": {
      "application/vnd.jupyter.widget-view+json": {
       "model_id": "f792a96dcfae413dbd55786a076047f4",
       "version_major": 2,
       "version_minor": 0
      },
      "text/plain": [
       "  0%|          | 0/1000 [00:00<?, ?it/s]"
      ]
     },
     "metadata": {},
     "output_type": "display_data"
    }
   ],
   "source": [
    "#Webscraping from 2021 to 2022\n",
    "tweets = []\n",
    "query = \"covid vaccine -availability -free -slot -slots -trade -trades (#covidvaccine OR #CovidVaccine OR #vaccine OR #covid OR #Covid19Vaccine OR #CoronaVirusVaccine ) lang:en until:2022-12-8 since:2021-12-08 -filter:links -filter:replies\"\n",
    "\n",
    "for tweet in tqdm(sntwitter.TwitterSearchScraper(query).get_items(),total = limit):\n",
    "    if len(tweets) == limit:\n",
    "        break\n",
    "    else:\n",
    "        tweets.append([tweet.date,tweet.user.username,tweet.content,tweet.url,tweet.user.location])\n",
    "vaccine_df_2021_2022 = pd.DataFrame(tweets,columns=['Date','User','Tweet','Tweet_URL','Location'])"
   ]
  },
  {
   "cell_type": "code",
   "execution_count": 23,
   "metadata": {},
   "outputs": [
    {
     "data": {
      "text/plain": [
       "7"
      ]
     },
     "execution_count": 23,
     "metadata": {},
     "output_type": "execute_result"
    }
   ],
   "source": [
    "vaccine_df_2021_2022_newline_cleaned = vaccine_df_2021_2022.replace(r'\\n',' ', regex=True).replace(r'\\r',' ', regex=True).replace(r'\\t',' ', regex=True)\n",
    "vaccine_df_2021_2022_newline_cleaned1 = vaccine_df_2021_2022_newline_cleaned.replace(r'\\\\r',' ', regex=True).replace(r'\\\\n',' ', regex=True).replace(r'\\\\t',' ',regex=True)\n",
    "vaccine_df_2021_2022_white_space = vaccine_df_2021_2022_newline_cleaned1.replace(r' +',' ',regex=True)\n",
    "vaccine_df_2021_2022_white_space.duplicated(subset=['Tweet']).sum()"
   ]
  },
  {
   "cell_type": "code",
   "execution_count": 24,
   "metadata": {},
   "outputs": [
    {
     "data": {
      "text/plain": [
       "(993, 5)"
      ]
     },
     "execution_count": 24,
     "metadata": {},
     "output_type": "execute_result"
    }
   ],
   "source": [
    "vaccine_df_2021_2022_clean=vaccine_df_2021_2022_white_space.drop_duplicates(subset=['Tweet'])\n",
    "vaccine_df_2021_2022_clean.shape"
   ]
  },
  {
   "cell_type": "code",
   "execution_count": 25,
   "metadata": {},
   "outputs": [],
   "source": [
    "filepath = Path('data/vaccine_output_2021_2022.csv')  \n",
    "filepath.parent.mkdir(parents=True, exist_ok=True)\n",
    "vaccine_df_2021_2022_clean.to_csv(filepath)"
   ]
  },
  {
   "cell_type": "code",
   "execution_count": null,
   "metadata": {},
   "outputs": [],
   "source": []
  }
 ],
 "metadata": {
  "kernelspec": {
   "display_name": "Python 3 (ipykernel)",
   "language": "python",
   "name": "python3"
  },
  "language_info": {
   "codemirror_mode": {
    "name": "ipython",
    "version": 3
   },
   "file_extension": ".py",
   "mimetype": "text/x-python",
   "name": "python",
   "nbconvert_exporter": "python",
   "pygments_lexer": "ipython3",
   "version": "3.9.7"
  }
 },
 "nbformat": 4,
 "nbformat_minor": 1
}
