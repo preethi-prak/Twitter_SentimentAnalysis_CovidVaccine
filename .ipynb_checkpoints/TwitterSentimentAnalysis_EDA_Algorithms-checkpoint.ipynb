{
 "cells": [
  {
   "cell_type": "markdown",
   "metadata": {
    "collapsed": true
   },
   "source": [
    "# EDA"
   ]
  },
  {
   "cell_type": "code",
   "execution_count": 1,
   "metadata": {},
   "outputs": [],
   "source": [
    "import numpy as np\n",
    "import pandas as pd\n",
    "import seaborn as sns\n",
    "import nltk\n",
    "import snscrape.modules.twitter as sntwitter\n",
    "from tqdm.notebook import tqdm\n",
    "from pathlib import Path  \n",
    "import re\n",
    "import string\n",
    "from transformers import AutoTokenizer\n",
    "#add package\n",
    "from transformers import AutoModelForSequenceClassification\n",
    "from scipy.special import softmax"
   ]
  },
  {
   "cell_type": "code",
   "execution_count": null,
   "metadata": {},
   "outputs": [],
   "source": [
    "vaccine_df_2020_2021 = pd.read_csv(r'data/vaccine_output_2020_2021.csv',index_col=0)\n",
    "\n",
    "#vaccine_df_2021_2022 = pd.read_csv(r'data/vaccine_output_2021_2022.csv')"
   ]
  },
  {
   "cell_type": "code",
   "execution_count": null,
   "metadata": {},
   "outputs": [],
   "source": [
    "vaccine_df_2020_2021.info()\n"
   ]
  },
  {
   "cell_type": "code",
   "execution_count": null,
   "metadata": {},
   "outputs": [],
   "source": [
    "print(vaccine_df_2020_2021.shape)"
   ]
  },
  {
   "cell_type": "code",
   "execution_count": null,
   "metadata": {},
   "outputs": [],
   "source": [
    "vaccine_df_2020_2021['Tweet'][6]"
   ]
  },
  {
   "cell_type": "code",
   "execution_count": null,
   "metadata": {},
   "outputs": [],
   "source": [
    "vaccine_df_2020_2021.head()"
   ]
  },
  {
   "cell_type": "code",
   "execution_count": null,
   "metadata": {},
   "outputs": [],
   "source": [
    "# clean and filter using SPARK\n",
    "def preprocessing(df):\n",
    "    location_df = df['Location']\n",
    "    tweet_lower_df = df['Tweet'].str.lower()\n",
    "    EMOJI_PATTERN = re.compile( \\\n",
    "                           \"[\" \\\n",
    "                           \"\\U0001F1E0-\\U0001F1FF\"  \\\n",
    "                           \"\\U0001F300-\\U0001F5FF\"  \\\n",
    "                           \"\\U0001F600-\\U0001F64F\"  \\\n",
    "                           \"\\U0001F680-\\U0001F6FF\"  \\\n",
    "                           \"\\U0001F700-\\U0001F77F\" \\\n",
    "                           \"\\U0001F780-\\U0001F7FF\" \\\n",
    "                           \"\\U0001F800-\\U0001F8FF\" \\\n",
    "                           \"\\U0001F900-\\U0001F9FF\" \\\n",
    "                           \"\\U0001FA00-\\U0001FA6F\" \\\n",
    "                           \"\\U0001FA70-\\U0001FAFF\" \\\n",
    "                           \"\\U00002702-\\U000027B0\" \\\n",
    "                           \"\\U000024C2-\\U0001F251\" \\\n",
    "                           \"]+\")\n",
    "    \n",
    "    tweet_whitespace_df = tweet_lower_df.replace(r'\\s+',' ',regex=True)\n",
    "    tweet_emoji_df = tweet_whitespace_df.replace(EMOJI_PATTERN,'',regex = True)\n",
    "    tweet_hashtag_df = tweet_emoji_df.replace(r'#','',regex=True)\n",
    "    tweet_numbers_df = tweet_hashtag_df.replace(r'[0-9]+', '', regex = True)\n",
    "    tweet_punc_df = tweet_numbers_df.replace(r'[^\\w\\s]', '', regex = True)\n",
    "    \n",
    "    location_whitespace_df =  location_df.replace(r'\\s+',' ',regex=True)\n",
    "    location_hashtag_df = location_whitespace_df.replace(r'#','',regex=True)\n",
    "    location_numbers_df = location_hashtag_df.replace(r'[0-9]+','',regex=True)\n",
    "    location_emoji_df = location_numbers_df.replace(EMOJI_PATTERN,'',regex = True)\n",
    "    PUNCT_MODIFIED = r'[.|!|#|\\\"|$|%|\\'|\\(|\\)|*|+|=|<|>|~|\\{|\\}|\\\\|/|:|;|\\?|@|\\[|^|_|\\`|\\]]'\n",
    "    location_punc_df = location_emoji_df.replace(PUNCT_MODIFIED,'',regex = True)\n",
    "    return tweet_punc_df,location_punc_df\n"
   ]
  },
  {
   "cell_type": "code",
   "execution_count": null,
   "metadata": {},
   "outputs": [],
   "source": [
    "vaccine_20_21_cleanedDF = vaccine_df_2020_2021\n",
    "vaccine_20_21_cleanedDF['Processed_Tweet'],vaccine_20_21_cleanedDF['Location'] = preprocessing(vaccine_df_2020_2021)\n",
    "vaccine_20_21_cleanedDF['Location'] = vaccine_20_21_cleanedDF['Location'].fillna('')\n",
    "vaccine_20_21_cleanedDF\n",
    "vaccine_20_21_cleanedDF.to_csv('new_processed.csv', encoding='utf-8')"
   ]
  },
  {
   "cell_type": "markdown",
   "metadata": {},
   "source": [
    "## ALGORITHMS"
   ]
  },
  {
   "cell_type": "markdown",
   "metadata": {},
   "source": [
    "#### Basic NLTK Operations"
   ]
  },
  {
   "cell_type": "code",
   "execution_count": null,
   "metadata": {},
   "outputs": [],
   "source": [
    "#VADER \n",
    "#ROBERTA\n",
    "#Compare and visualize \n",
    "#Pipeline for current tweet"
   ]
  }
 ],
 "metadata": {
  "kernelspec": {
   "display_name": "Python 3 (ipykernel)",
   "language": "python",
   "name": "python3"
  },
  "language_info": {
   "codemirror_mode": {
    "name": "ipython",
    "version": 3
   },
   "file_extension": ".py",
   "mimetype": "text/x-python",
   "name": "python",
   "nbconvert_exporter": "python",
   "pygments_lexer": "ipython3",
   "version": "3.9.7"
  }
 },
 "nbformat": 4,
 "nbformat_minor": 1
}
