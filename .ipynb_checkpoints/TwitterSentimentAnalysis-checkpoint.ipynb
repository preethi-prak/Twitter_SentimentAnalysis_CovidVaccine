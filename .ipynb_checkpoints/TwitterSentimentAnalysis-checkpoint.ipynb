{
 "cells": [
  {
   "cell_type": "markdown",
   "metadata": {},
   "source": [
    "# TWITTER SENTIMENT ANALYSIS ON COVID DATA"
   ]
  },
  {
   "cell_type": "markdown",
   "metadata": {},
   "source": [
    "## Importing Packages and Connecting Data"
   ]
  },
  {
   "cell_type": "code",
   "execution_count": 28,
   "metadata": {},
   "outputs": [],
   "source": [
    "import numpy as np\n",
    "import pandas as pd\n",
    "import seaborn as sns\n",
    "import nltk\n",
    "import snscrape.modules.twitter as sntwitter\n",
    "from tqdm.notebook import tqdm\n",
    "from pathlib import Path  "
   ]
  },
  {
   "cell_type": "code",
   "execution_count": 29,
   "metadata": {},
   "outputs": [],
   "source": [
    "#package for social network scraping\n",
    "#pip install snscrape"
   ]
  },
  {
   "cell_type": "markdown",
   "metadata": {},
   "source": [
    "## Web Scraping for CovidVaccine  related tweets "
   ]
  },
  {
   "cell_type": "code",
   "execution_count": 30,
   "metadata": {},
   "outputs": [
    {
     "name": "stdout",
     "output_type": "stream",
     "text": [
      "{'url': 'https://twitter.com/tulp_p/status/1587885524580061184', 'date': datetime.datetime(2022, 11, 2, 19, 13, 5, tzinfo=datetime.timezone.utc), 'content': '@taxfree_python おやすみなさい', 'renderedContent': '@taxfree_python おやすみなさい', 'id': 1587885524580061184, 'user': User(username='tulp_p', id=1235225508427608073, displayname='テュルプ', description='数学と言語学に興味があります', rawDescription='数学と言語学に興味があります', descriptionUrls=None, verified=False, created=datetime.datetime(2020, 3, 4, 15, 28, 46, tzinfo=datetime.timezone.utc), followersCount=242, friendsCount=350, statusesCount=3763, favouritesCount=37900, listedCount=1, mediaCount=52, location='', protected=False, linkUrl=None, linkTcourl=None, profileImageUrl='https://pbs.twimg.com/profile_images/1549798038600060929/gFIW-W0N_normal.jpg', profileBannerUrl='https://pbs.twimg.com/profile_banners/1235225508427608073/1664642793', label=None), 'replyCount': 0, 'retweetCount': 0, 'likeCount': 0, 'quoteCount': 0, 'conversationId': 1587883399984779264, 'lang': 'ja', 'source': '<a href=\"http://twitter.com/download/iphone\" rel=\"nofollow\">Twitter for iPhone</a>', 'sourceUrl': 'http://twitter.com/download/iphone', 'sourceLabel': 'Twitter for iPhone', 'outlinks': None, 'tcooutlinks': None, 'media': None, 'retweetedTweet': None, 'quotedTweet': None, 'inReplyToTweetId': 1587885457995857920, 'inReplyToUser': User(username='taxfree_python', id=918218749554999296, displayname='tax_free', description=None, rawDescription=None, descriptionUrls=None, verified=None, created=None, followersCount=None, friendsCount=None, statusesCount=None, favouritesCount=None, listedCount=None, mediaCount=None, location=None, protected=None, linkUrl=None, linkTcourl=None, profileImageUrl=None, profileBannerUrl=None, label=None), 'mentionedUsers': [User(username='taxfree_python', id=918218749554999296, displayname='tax_free', description=None, rawDescription=None, descriptionUrls=None, verified=None, created=None, followersCount=None, friendsCount=None, statusesCount=None, favouritesCount=None, listedCount=None, mediaCount=None, location=None, protected=None, linkUrl=None, linkTcourl=None, profileImageUrl=None, profileBannerUrl=None, label=None)], 'coordinates': None, 'place': None, 'hashtags': None, 'cashtags': None}\n"
     ]
    }
   ],
   "source": [
    "query = \"python\"\n",
    "\n",
    "for tweet in sntwitter.TwitterSearchScraper(query).get_items():\n",
    "    print(vars(tweet))\n",
    "    break"
   ]
  },
  {
   "cell_type": "code",
   "execution_count": 34,
   "metadata": {},
   "outputs": [
    {
     "data": {
      "application/vnd.jupyter.widget-view+json": {
       "model_id": "9f405353fd6b4c9f910f6e874430d90e",
       "version_major": 2,
       "version_minor": 0
      },
      "text/plain": [
       "  0%|          | 0/10000 [00:00<?, ?it/s]"
      ]
     },
     "metadata": {},
     "output_type": "display_data"
    },
    {
     "name": "stdout",
     "output_type": "stream",
     "text": [
      "                       Date            User  \\\n",
      "0 2021-12-07 23:29:36+00:00         MA_CEAL   \n",
      "1 2021-12-07 23:08:19+00:00       WebAeneas   \n",
      "2 2021-12-07 23:02:41+00:00    TheAmirImani   \n",
      "3 2021-12-07 22:58:56+00:00  michaelwbunner   \n",
      "4 2021-12-07 22:58:46+00:00    drsajumathew   \n",
      "\n",
      "                                               Tweet  \n",
      "0  #COVIDMythBustingTuesdays! \\n\\nMyth: Doesn’t t...  \n",
      "1  #vaccinated another great idea you can sue any...  \n",
      "2  I don't know if this is a \"3 dose #vaccine\" or...  \n",
      "3  Can anyone prove that the #covid #vaccine prev...  \n",
      "4  About 1600 people die each day from #COVID in ...  \n"
     ]
    }
   ],
   "source": [
    "\n",
    "# webscaping from 2020 to 2021\n",
    "tweets = []\n",
    "limit = 10000\n",
    "\n",
    "query = \"covid vaccine -availability -free -slot -slots -trade (#covidvaccine OR #CovidVaccine OR #vaccine OR #covid) lang:en until:2021-12-8 since:2020-12-08 -filter:links -filter:replies\"\n",
    "\n",
    "for tweet in tqdm(sntwitter.TwitterSearchScraper(query).get_items(),total = limit):\n",
    "    if len(tweets) == limit:\n",
    "        break\n",
    "    else:\n",
    "        tweets.append([tweet.date,tweet.user.username,tweet.content])\n",
    "vaccine_df_2020_2021 = pd.DataFrame(tweets,columns=['Date','User','Tweet'])\n",
    "print(vaccine_df_2020_2021.head())\n"
   ]
  },
  {
   "cell_type": "code",
   "execution_count": 35,
   "metadata": {},
   "outputs": [],
   "source": [
    "filepath = Path('data/vaccine_output_2020_2021.csv')  \n",
    "filepath.parent.mkdir(parents=True, exist_ok=True)  \n",
    "vaccine_df_2020_2021.to_csv(filepath)"
   ]
  },
  {
   "cell_type": "code",
   "execution_count": 36,
   "metadata": {},
   "outputs": [
    {
     "data": {
      "application/vnd.jupyter.widget-view+json": {
       "model_id": "59266baabb6b48aea0060f4d5887d807",
       "version_major": 2,
       "version_minor": 0
      },
      "text/plain": [
       "  0%|          | 0/10000 [00:00<?, ?it/s]"
      ]
     },
     "metadata": {},
     "output_type": "display_data"
    }
   ],
   "source": [
    "\n",
    "#Webscraping from 2021 to 2022\n",
    "tweets = []\n",
    "query = \"covid vaccine -availability -free -slot -slots -trade (#covidvaccine OR #CovidVaccine OR #vaccine OR #covid) lang:en until:2022-12-8 since:2021-12-08 -filter:links -filter:replies\"\n",
    "\n",
    "for tweet in tqdm(sntwitter.TwitterSearchScraper(query).get_items(),total = limit):\n",
    "    if len(tweets) == limit:\n",
    "        break\n",
    "    else:\n",
    "        tweets.append([tweet.date,tweet.user.username,tweet.content])\n",
    "vaccine_df_2021_2022 = pd.DataFrame(tweets,columns=['Date','User','Tweet'])\n"
   ]
  },
  {
   "cell_type": "code",
   "execution_count": 37,
   "metadata": {},
   "outputs": [],
   "source": [
    "filepath = Path('data/vaccine_output_2021_2022.csv')  \n",
    "filepath.parent.mkdir(parents=True, exist_ok=True)  \n",
    "vaccine_df_2021_2022.to_csv(filepath)"
   ]
  },
  {
   "cell_type": "code",
   "execution_count": null,
   "metadata": {},
   "outputs": [],
   "source": [
    "# clean and filter using SPARK\n",
    "def preprocessing(df):\n",
    "    \n",
    "    \n",
    "    \n",
    "    \n",
    "\n",
    "\n",
    "    \n",
    "#VADER \n",
    "#ROBERTA\n",
    "#Compare and visualize \n",
    "#Pipeline for current tweet"
   ]
  },
  {
   "cell_type": "code",
   "execution_count": null,
   "metadata": {},
   "outputs": [],
   "source": [
    "vaccine_20_21_cleanedDF = preprocessing(vaccine_df_2020_2021)\n",
    "vaccine_21_22_cleanedDF = preprocessing(vaccine_df_2021_2022)\n"
   ]
  }
 ],
 "metadata": {
  "kernelspec": {
   "display_name": "Python 3 (ipykernel)",
   "language": "python",
   "name": "python3"
  },
  "language_info": {
   "codemirror_mode": {
    "name": "ipython",
    "version": 3
   },
   "file_extension": ".py",
   "mimetype": "text/x-python",
   "name": "python",
   "nbconvert_exporter": "python",
   "pygments_lexer": "ipython3",
   "version": "3.9.7"
  }
 },
 "nbformat": 4,
 "nbformat_minor": 1
}
